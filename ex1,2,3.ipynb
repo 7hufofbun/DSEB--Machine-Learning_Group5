{
 "cells": [
  {
   "cell_type": "code",
   "execution_count": 2,
   "id": "da97e01b",
   "metadata": {},
   "outputs": [],
   "source": [
    "import nltk #Natural Language Toolkit\n",
    "import numpy as np\n",
    "import pandas as pd\n",
    "from nltk.corpus import twitter_samples\n",
    "import matplotlib.pyplot as plt\n",
    "from mpl_toolkits.mplot3d import Axes3D"
   ]
  },
  {
   "cell_type": "markdown",
   "id": "4f01b7c1",
   "metadata": {},
   "source": [
    "### Get data"
   ]
  },
  {
   "cell_type": "code",
   "execution_count": 3,
   "id": "6512b1a8",
   "metadata": {},
   "outputs": [],
   "source": [
    "all_positive_tweets = twitter_samples.strings('positive_tweets.json')\n",
    "all_negative_tweets = twitter_samples.strings('negative_tweets.json')"
   ]
  },
  {
   "cell_type": "code",
   "execution_count": 4,
   "id": "3bab1d9b",
   "metadata": {},
   "outputs": [],
   "source": [
    "# split data into train and test set\n",
    "test_pos = all_positive_tweets[4000:]\n",
    "train_pos = all_positive_tweets[:4000]\n",
    "test_neg = all_negative_tweets[4000:]\n",
    "train_neg = all_negative_tweets[:4000]\n",
    "\n",
    "train_x = train_pos + train_neg \n",
    "test_x = test_pos + test_neg"
   ]
  },
  {
   "cell_type": "code",
   "execution_count": 5,
   "id": "077dfc82",
   "metadata": {},
   "outputs": [],
   "source": [
    "# Create the numpy array of positive labels and negative labels.\n",
    "train_y = np.append(np.ones((len(train_pos), 1)), np.zeros((len(train_neg), 1)), axis=0)\n",
    "test_y = np.append(np.ones((len(test_pos), 1)), np.zeros((len(test_neg), 1)), axis=0)"
   ]
  },
  {
   "cell_type": "markdown",
   "id": "8da6ec89",
   "metadata": {},
   "source": [
    "### data preprocessing"
   ]
  },
  {
   "cell_type": "code",
   "execution_count": 6,
   "id": "cb8e91c9",
   "metadata": {},
   "outputs": [],
   "source": [
    "from nltk.stem import PorterStemmer\n",
    "from nltk.tokenize import TweetTokenizer\n",
    "from nltk.corpus import stopwords\n",
    "import re\n",
    "import string\n",
    "\n",
    "def process_tweet(tweet):\n",
    "    stemmer = PorterStemmer()\n",
    "    stopwords_english = stopwords.words('english')\n",
    "\n",
    "    # remove stock market tickers like $GE\n",
    "    tweet = re.sub(r'\\$\\w*', '', tweet)\n",
    "    # remove old style retweet text \"RT\"\n",
    "    tweet = re.sub(r'^RT[\\s]+', '', tweet)\n",
    "    # remove hyperlinks\n",
    "    tweet = re.sub(r'https?://[^\\s\\n\\r]+', '', tweet)\n",
    "    # remove hashtags\n",
    "    # only removing the hash # sign from the word\n",
    "    tweet = re.sub(r'#', '', tweet)\n",
    "\n",
    "    # tokenize tweets\n",
    "    tokenizer = TweetTokenizer(preserve_case=False, strip_handles=True, reduce_len=True) #the tokenizer will downcase everything except for emoticons\n",
    "    tweet_tokens = tokenizer.tokenize(tweet)\n",
    "\n",
    "    tweets_clean = []\n",
    "    for word in tweet_tokens:\n",
    "        if (word not in stopwords_english and   # remove stopwords\n",
    "                word not in string.punctuation): # remove punctuation\n",
    "            stem_word = stemmer.stem(word)\n",
    "            tweets_clean.append(stem_word)\n",
    "\n",
    "    return tweets_clean"
   ]
  },
  {
   "cell_type": "markdown",
   "id": "76053abf",
   "metadata": {},
   "source": [
    "### feature engineering"
   ]
  },
  {
   "cell_type": "code",
   "execution_count": 7,
   "id": "1e6ae414",
   "metadata": {},
   "outputs": [],
   "source": [
    "def build_freqs(tweets, ys):\n",
    "    \"\"\" Build frequencies\n",
    "    Input:\n",
    "    tweets: a list of tweets\n",
    "    ys: an mx1 array with the sentiment label of each tweet (either 0 or 1)\n",
    "    Output:\n",
    "    freqs: a dictionary mapping each (word, sentiment) pair to its frequency\n",
    "    \"\"\"\n",
    "    yslist = np.squeeze(ys).tolist()\n",
    "    # start with an empty dict and populate it by looping over all tweets\n",
    "    freqs = {}\n",
    "    for y, tweet in zip(yslist, tweets):\n",
    "        for word in process_tweet(tweet):\n",
    "            pair = (word, y)\n",
    "            if pair in freqs:\n",
    "                freqs[pair] += 1\n",
    "            else:\n",
    "                freqs[pair] = 1\n",
    "\n",
    "    return freqs\n",
    "freqs = build_freqs(train_x, train_y)"
   ]
  },
  {
   "cell_type": "markdown",
   "id": "8fd4e281",
   "metadata": {},
   "source": [
    "### Extract feature"
   ]
  },
  {
   "cell_type": "code",
   "execution_count": 8,
   "id": "4595ecc7",
   "metadata": {},
   "outputs": [],
   "source": [
    "def extract_features(tweet, freqs, process_tweet=process_tweet, train_set_length = len(train_x), normalization = False):\n",
    "    word_l = process_tweet(tweet)\n",
    "    \n",
    "    # 3 elements in the form of a 1 x 3 vector\n",
    "    x = np.zeros((1, 3)) \n",
    "    \n",
    "    #bias term is set to 1\n",
    "    x[0,0] = 1    \n",
    "    # loop through each word in the list of words\n",
    "    for word in word_l:\n",
    "        \n",
    "        # increment the word count for the positive label 1\n",
    "        if (word, 1) in freqs.keys():\n",
    "            x[0,1] += freqs[(word, 1)]\n",
    "        \n",
    "        # increment the word count for the negative label 0\n",
    "        if (word, 0) in freqs.keys():\n",
    "            x[0,2] += freqs[(word, 0)]\n",
    "        \n",
    "    #Normalize pos_freq and \n",
    "    if normalization == True:\n",
    "        N = train_set_length * len(word_l) if len(word_l) > 0 else 1\n",
    "        x[:, 1:] = x[:, 1:]/N\n",
    "    assert(x.shape == (1, 3))\n",
    "    return x\n"
   ]
  },
  {
   "cell_type": "markdown",
   "id": "7a07565d",
   "metadata": {},
   "source": [
    "### Logistic regression"
   ]
  },
  {
   "cell_type": "code",
   "execution_count": 9,
   "id": "86ef5285",
   "metadata": {},
   "outputs": [],
   "source": [
    "def sigmoid(z): \n",
    "    h = 1. / (1. + np.exp(-z))\n",
    "    return h\n",
    "import matplotlib.pyplot as plt\n",
    "\n",
    "def gradient_descent_logistic(x, y, theta, alpha, num_iters):\n",
    "    m = len(x)\n",
    "    losses = []\n",
    "    for i in range(0, num_iters):\n",
    "        \n",
    "        # get z, the dot product of x and theta\n",
    "        z = np.dot(x, theta)\n",
    "        \n",
    "        # get the sigmoid of z\n",
    "        h = sigmoid(z)\n",
    "        \n",
    "        # calculate the cost function\n",
    "        J = - (np.dot(y.T, np.log(h)) + np.dot((1-y).T, np.log(1-h))) / float(m)\n",
    "        losses.append(float(J))\n",
    "        # update the weights theta\n",
    "        theta = theta - (alpha * np.dot(x.T, (h-y))) / float(m)\n",
    "    J = float(J)\n",
    "    \n",
    "    # plot the loss function\n",
    "    iter_list = np.arange(1, num_iters + 1, 1)\n",
    "    plt.figure(figsize=(5, 3))\n",
    "    plt.plot(iter_list, losses, color='green', label='loss')\n",
    "    plt.xlabel('number of iterations')\n",
    "    plt.ylabel('loss')\n",
    "    plt.legend()\n",
    "    plt.show()\n",
    "\n",
    "    return J, theta\n",
    "def predict_tweet(tweet, freqs, theta):\n",
    "    x = extract_features(tweet, freqs)\n",
    "    # make the prediction using x and theta\n",
    "    y_pred = sigmoid(np.dot(x, theta))\n",
    "    \n",
    "    return y_pred\n",
    "def test_logistic_regression(test_x, test_y, freqs, theta, predict_tweet=predict_tweet):\n",
    "    y_hat = list()\n",
    "    \n",
    "    for tweet in test_x:\n",
    "        # get the label prediction for the tweet\n",
    "        y_pred = predict_tweet(tweet, freqs, theta)\n",
    "        \n",
    "        if y_pred > 0.5:\n",
    "            # append 1.0 to the list\n",
    "            y_hat.append(1.0)\n",
    "        else:\n",
    "            # append 0 to the list\n",
    "            y_hat.append(0.0)\n",
    "\n",
    "    accuracy = np.sum(y_hat == np.squeeze(test_y)) / len(test_y)    \n",
    "    return accuracy\n"
   ]
  },
  {
   "cell_type": "code",
   "execution_count": 10,
   "id": "17caa687",
   "metadata": {},
   "outputs": [
    {
     "name": "stderr",
     "output_type": "stream",
     "text": [
      "C:\\Users\\ADMIN\\AppData\\Local\\Temp\\ipykernel_10700\\972092760.py:19: DeprecationWarning: Conversion of an array with ndim > 0 to a scalar is deprecated, and will error in future. Ensure you extract a single element from your array before performing this operation. (Deprecated NumPy 1.25.)\n",
      "  losses.append(float(J))\n",
      "C:\\Users\\ADMIN\\AppData\\Local\\Temp\\ipykernel_10700\\972092760.py:22: DeprecationWarning: Conversion of an array with ndim > 0 to a scalar is deprecated, and will error in future. Ensure you extract a single element from your array before performing this operation. (Deprecated NumPy 1.25.)\n",
      "  J = float(J)\n"
     ]
    },
    {
     "data": {
      "image/png": "[encoded data removed]",
      "text/plain": [
       "<Figure size 500x300 with 1 Axes>"
      ]
     },
     "metadata": {},
     "output_type": "display_data"
    },
    {
     "name": "stdout",
     "output_type": "stream",
     "text": [
      "The cost after training is 0.10157921.\n",
      "The resulting vector of weights is [3e-07, 0.00127323, -0.001111]\n",
      "Logistic regression model's accuracy = 0.9960\n"
     ]
    }
   ],
   "source": [
    "# Result of model scratch\n",
    "# collect the features 'x' and stack them into a matrix 'X'\n",
    "X = np.zeros((len(train_x), 3))\n",
    "for i in range(len(train_x)):\n",
    "    X[i, :]= extract_features(train_x[i], freqs)\n",
    "\n",
    "# training labels corresponding to X\n",
    "Y = train_y\n",
    "\n",
    "# Apply gradient descent\n",
    "J, w = gradient_descent_logistic(X, Y, np.zeros((3, 1)), 1e-9, 10000)\n",
    "print(f\"The cost after training is {J:.8f}.\")\n",
    "print(f\"The resulting vector of weights is {[round(t, 8) for t in np.squeeze(w)]}\")\n",
    "tmp_accuracy = test_logistic_regression(test_x, test_y, freqs, w)\n",
    "print(f\"Logistic regression model's accuracy = {tmp_accuracy:.4f}\")\n"
   ]
  },
  {
   "cell_type": "code",
   "execution_count": 11,
   "id": "795aaf4a",
   "metadata": {},
   "outputs": [
    {
     "name": "stdout",
     "output_type": "stream",
     "text": [
      "Label Predicted Tweet\n",
      "THE TWEET IS: @msarosh Uff Itna Miss karhy thy ap :p\n",
      "THE PROCESSED TWEET IS: ['uff', 'itna', 'miss', 'karhi', 'thi', 'ap', ':p']\n",
      "1\t0.47137167\tb'uff itna miss karhi thi ap :p'\n"
     ]
    },
    {
     "name": "stderr",
     "output_type": "stream",
     "text": [
      "C:\\Users\\ADMIN\\AppData\\Local\\Temp\\ipykernel_10700\\781834869.py:9: DeprecationWarning: Conversion of an array with ndim > 0 to a scalar is deprecated, and will error in future. Ensure you extract a single element from your array before performing this operation. (Deprecated NumPy 1.25.)\n",
      "  print('%d\\t%0.8f\\t%s' % (y, y_hat, ' '.join(process_tweet(x)).encode('ascii', 'ignore')))\n"
     ]
    },
    {
     "name": "stdout",
     "output_type": "stream",
     "text": [
      "THE TWEET IS: @phenomyoutube u probs had more fun with david than me : (\n",
      "THE PROCESSED TWEET IS: ['u', 'prob', 'fun', 'david']\n",
      "0\t0.53251630\tb'u prob fun david'\n",
      "THE TWEET IS: pats jay : (\n",
      "THE PROCESSED TWEET IS: ['pat', 'jay']\n",
      "0\t0.50095500\tb'pat jay'\n",
      "THE TWEET IS: @bae_ts WHATEVER STIL L YOUNG &gt;:-(\n",
      "THE PROCESSED TWEET IS: ['whatev', 'stil', 'l', 'young', '>:-(']\n",
      "0\t0.50032454\tb'whatev stil l young >:-('\n",
      "THE TWEET IS: my beloved grandmother : ( https://t.co/wt4oXq5xCf\n",
      "THE PROCESSED TWEET IS: ['belov', 'grandmoth']\n",
      "0\t0.50000008\tb'belov grandmoth'\n",
      "THE TWEET IS: @CHEDA_KHAN Thats life. I get calls from people I havent seen in 20 years and its always favours : (\n",
      "THE PROCESSED TWEET IS: ['that', 'life', 'get', 'call', 'peopl', 'havent', 'seen', '20', 'year', 'alway', 'favour']\n",
      "0\t0.50564988\tb'that life get call peopl havent seen 20 year alway favour'\n",
      "THE TWEET IS: Sr. Financial Analyst - Expedia, Inc.: (#Bellevue, WA) http://t.co/ktknMhvwCI #Finance #ExpediaJobs #Job #Jobs #Hiring\n",
      "THE PROCESSED TWEET IS: ['sr', 'financi', 'analyst', 'expedia', 'inc', 'bellevu', 'wa', 'financ', 'expediajob', 'job', 'job', 'hire']\n",
      "0\t0.51644293\tb'sr financi analyst expedia inc bellevu wa financ expediajob job job hire'\n",
      "THE TWEET IS: @ITVCentral #Midlands Yes thanks for the depressing weather forecast, where the word 'rain' was mentioned several times :-(\n",
      "THE PROCESSED TWEET IS: ['midland', 'ye', 'thank', 'depress', 'weather', 'forecast', 'word', 'rain', 'mention', 'sever', 'time', ':-(']\n",
      "0\t0.53527788\tb'midland ye thank depress weather forecast word rain mention sever time :-('\n",
      "The number of error analysis using model scratch 8\n"
     ]
    }
   ],
   "source": [
    "print('Label Predicted Tweet')\n",
    "countt = 0\n",
    "for x,y in zip(test_x,test_y):\n",
    "    y_hat = predict_tweet(x, freqs, w)\n",
    "\n",
    "    if np.abs(y - (y_hat > 0.5)) > 0:\n",
    "        print('THE TWEET IS:', x)\n",
    "        print('THE PROCESSED TWEET IS:', process_tweet(x))\n",
    "        print('%d\\t%0.8f\\t%s' % (y, y_hat, ' '.join(process_tweet(x)).encode('ascii', 'ignore')))\n",
    "        countt += 1\n",
    "print(\"The number of error analysis using model scratch\", countt)"
   ]
  },
  {
   "cell_type": "markdown",
   "id": "5a1dab8b",
   "metadata": {},
   "source": [
    "### Ex1: Make use of Logistic Regression model from scikit-learn or some other packages in Python, run the Sentiment Analysis solution again and make a very thorough comparison with what we implemented from scratch."
   ]
  },
  {
   "cell_type": "code",
   "execution_count": 12,
   "id": "b9b27e37",
   "metadata": {},
   "outputs": [
    {
     "name": "stdout",
     "output_type": "stream",
     "text": [
      "[0.23910221] [[ 0.23908787  0.00827686 -0.00966569]]\n"
     ]
    },
    {
     "name": "stderr",
     "output_type": "stream",
     "text": [
      "c:\\Users\\ADMIN\\AppData\\Local\\Programs\\Python\\Python312\\Lib\\site-packages\\sklearn\\utils\\validation.py:1406: DataConversionWarning: A column-vector y was passed when a 1d array was expected. Please change the shape of y to (n_samples, ), for example using ravel().\n",
      "  y = column_or_1d(y, warn=True)\n"
     ]
    },
    {
     "name": "stdout",
     "output_type": "stream",
     "text": [
      "Logistic regression model's accuracy = 0.9950\n",
      "Cost = 0.015098\n"
     ]
    }
   ],
   "source": [
    "# Result from LogisticRegresison from sklearn\n",
    "from sklearn.metrics import accuracy_score, log_loss, classification_report\n",
    "from sklearn.linear_model import LogisticRegression\n",
    "logreg = LogisticRegression()\n",
    "logreg.fit(X, Y)\n",
    "print(logreg.intercept_,logreg.coef_)\n",
    "x_test = np.zeros((len(test_x), 3))\n",
    "for i in range(len(test_x)):\n",
    "    x_test[i, :]= extract_features(test_x[i], freqs)\n",
    "y_pred = logreg.predict(x_test)\n",
    "acc = accuracy_score(test_y, y_pred)\n",
    "\n",
    "print(f\"Logistic regression model's accuracy = {acc:.4f}\")\n",
    "\n",
    "y_prob = logreg.predict_proba(x_test)   # xác suất dự đoán\n",
    "cost = log_loss(test_y, y_prob)\n",
    "print(f\"Cost = {cost:.6f}\")"
   ]
  },
  {
   "cell_type": "code",
   "execution_count": 13,
   "id": "ca00a7c8",
   "metadata": {},
   "outputs": [
    {
     "name": "stdout",
     "output_type": "stream",
     "text": [
      "THE TWEET IS: @MarkBreech Not sure it would be good thing 4 my bottom daring 2 say 2 Miss B but Im gonna be so stubborn on mouth soaping ! #NotHavingit :p\n",
      "THE PROCESSED TWEET IS: ['sure', 'would', 'good', 'thing', '4', 'bottom', 'dare', '2', 'say', '2', 'miss', 'b', 'im', 'gonna', 'stubborn', 'mouth', 'soap', 'nothavingit', ':p']\n",
      "True label: 1\tPredicted prob: 0.00000000\tPredicted label: 0\n",
      "THE TWEET IS: @msarosh Uff Itna Miss karhy thy ap :p\n",
      "THE PROCESSED TWEET IS: ['uff', 'itna', 'miss', 'karhi', 'thi', 'ap', ':p']\n",
      "True label: 1\tPredicted prob: 0.00000000\tPredicted label: 0\n",
      "THE TWEET IS: @phenomyoutube u probs had more fun with david than me : (\n",
      "THE PROCESSED TWEET IS: ['u', 'prob', 'fun', 'david']\n",
      "True label: 0\tPredicted prob: 1.00000000\tPredicted label: 1\n",
      "THE TWEET IS: @bumkeyyfel b-butt : ( isn't black cat a bad luck ene\n",
      "THE PROCESSED TWEET IS: ['b-butt', 'black', 'cat', 'bad', 'luck', 'ene']\n",
      "True label: 0\tPredicted prob: 1.00000000\tPredicted label: 1\n",
      "THE TWEET IS: pats jay : (\n",
      "THE PROCESSED TWEET IS: ['pat', 'jay']\n",
      "True label: 0\tPredicted prob: 1.00000000\tPredicted label: 1\n",
      "THE TWEET IS: @bae_ts WHATEVER STIL L YOUNG &gt;:-(\n",
      "THE PROCESSED TWEET IS: ['whatev', 'stil', 'l', 'young', '>:-(']\n",
      "True label: 0\tPredicted prob: 1.00000000\tPredicted label: 1\n",
      "THE TWEET IS: don't sleep. I'm here : (\n",
      "THE PROCESSED TWEET IS: ['sleep']\n",
      "True label: 0\tPredicted prob: 1.00000000\tPredicted label: 1\n",
      "THE TWEET IS: the internet is being a total bitch : (\n",
      "THE PROCESSED TWEET IS: ['internet', 'total', 'bitch']\n",
      "True label: 0\tPredicted prob: 1.00000000\tPredicted label: 1\n",
      "THE TWEET IS: my beloved grandmother : ( https://t.co/wt4oXq5xCf\n",
      "THE PROCESSED TWEET IS: ['belov', 'grandmoth']\n",
      "True label: 0\tPredicted prob: 1.00000000\tPredicted label: 1\n",
      "THE TWEET IS: Sr. Financial Analyst - Expedia, Inc.: (#Bellevue, WA) http://t.co/ktknMhvwCI #Finance #ExpediaJobs #Job #Jobs #Hiring\n",
      "THE PROCESSED TWEET IS: ['sr', 'financi', 'analyst', 'expedia', 'inc', 'bellevu', 'wa', 'financ', 'expediajob', 'job', 'job', 'hire']\n",
      "True label: 0\tPredicted prob: 1.00000000\tPredicted label: 1\n",
      "The number of error analysis using sklearn: 10\n"
     ]
    },
    {
     "name": "stderr",
     "output_type": "stream",
     "text": [
      "C:\\Users\\ADMIN\\AppData\\Local\\Temp\\ipykernel_10700\\2759283379.py:13: DeprecationWarning: Conversion of an array with ndim > 0 to a scalar is deprecated, and will error in future. Ensure you extract a single element from your array before performing this operation. (Deprecated NumPy 1.25.)\n",
      "  print('True label: %d\\tPredicted prob: %0.8f\\tPredicted label: %d' % (y_true, prob, y_pred_labels))\n"
     ]
    }
   ],
   "source": [
    "# Lấy xác suất dự đoán cho class 1\n",
    "y_hat= y_prob[:, 1]\n",
    "\n",
    "# Chuyển xác suất sang nhãn 0/1\n",
    "y_pred_labels = (y_hat> 0.5).astype(int)\n",
    "\n",
    "num = 0\n",
    "for x, y_true, prob in zip(test_x, test_y, y_pred_labels):\n",
    "    y_pred_labels = int(prob > 0.5)  # prob giờ là scalar\n",
    "    if y_true != y_pred_labels:\n",
    "        print('THE TWEET IS:', x)\n",
    "        print('THE PROCESSED TWEET IS:', process_tweet(x))\n",
    "        print('True label: %d\\tPredicted prob: %0.8f\\tPredicted label: %d' % (y_true, prob, y_pred_labels))\n",
    "        num += 1\n",
    "\n",
    "print(\"The number of error analysis using sklearn:\", num)\n"
   ]
  },
  {
   "cell_type": "code",
   "execution_count": 14,
   "id": "aed58cc0",
   "metadata": {},
   "outputs": [
    {
     "name": "stdout",
     "output_type": "stream",
     "text": [
      "              precision    recall  f1-score   support\n",
      "\n",
      "         0.0       1.00      0.99      0.99      1000\n",
      "         1.0       0.99      1.00      1.00      1000\n",
      "\n",
      "    accuracy                           0.99      2000\n",
      "   macro avg       1.00      0.99      0.99      2000\n",
      "weighted avg       1.00      0.99      0.99      2000\n",
      "\n"
     ]
    }
   ],
   "source": [
    "report = classification_report(test_y, y_pred)\n",
    "print(report)"
   ]
  },
  {
   "cell_type": "code",
   "execution_count": 15,
   "id": "c7f14882",
   "metadata": {},
   "outputs": [
    {
     "name": "stdout",
     "output_type": "stream",
     "text": [
      "[[992   8]\n",
      " [  2 998]]\n"
     ]
    },
    {
     "data": {
      "image/png": "[encoded data removed]",
      "text/plain": [
       "<Figure size 640x480 with 2 Axes>"
      ]
     },
     "metadata": {},
     "output_type": "display_data"
    }
   ],
   "source": [
    "from sklearn.metrics import confusion_matrix\n",
    "import seaborn as sns\n",
    "import matplotlib.pyplot as plt\n",
    "\n",
    "# y_true: nhãn thật\n",
    "# y_pred: nhãn dự đoán từ model\n",
    "y_pred = logreg.predict(x_test)\n",
    "\n",
    "# Tạo confusion matrix\n",
    "cm = confusion_matrix(test_y, y_pred)\n",
    "print(cm)\n",
    "\n",
    "# Visualize\n",
    "sns.heatmap(cm, annot=True, fmt='d', cmap='Blues')\n",
    "plt.xlabel('Predicted')\n",
    "plt.ylabel('Actual')\n",
    "plt.show()\n"
   ]
  },
  {
   "cell_type": "markdown",
   "id": "9544a8ac",
   "metadata": {},
   "source": [
    "| Criteria       | Sklearn LogisticRegression        | Model Scratch |\n",
    "|-----------------|-----------------------------------|--------------------------|\n",
    "| Coefficients    | [0.239, 0.0083, -0.0097]          | [3e-07, 0.00127, -0.0011]|\n",
    "| Loss           |  0.015098                  | 0.1016                   |\n",
    "| Accuracy        | 0.9950                            | 0.9960                   |\n",
    "| Error analysis cases         | 10                         | 8                  |\n"
   ]
  },
  {
   "cell_type": "markdown",
   "id": "2d82dfa4",
   "metadata": {},
   "source": [
    "| Criteria       | Sklearn LogisticRegression        | Model Scratch |\n",
    "|-----------------|-----------------------------------|--------------------------|\n",
    "| Training method | Scikit-learn does not run plain GD. Instead, it solves the problem via Maximum Likelihood Estimation (MLE) under the hood. The optimization is performed by advanced solvers like LBFGS, liblinear, saga, etc. These are quasi-Newton methods or coordinate descent algorithms, which are more efficient and numerically stable than vanilla GD. These solvers find the parameter values that maximize the likelihood (equivalently, minimize the negative log-likelihood / cross-entropy). They also natively handle regularization (L1/L2 penalty), which helps prevent overfitting and improves generalization.| We explicitly define the logistic regression cost function (cross-entropy / negative log-likelihood) and minimize it using Gradient Descent (GD).This means at every iteration we compute the gradient of the cost with respect to the weights and update them step by step. The convergence and final performance depend on hyperparameters such as the learning rate and number of iterations.        |\n",
    "| Convergence speed    | Sklearn converges quickly and stably due to optimized solvers.                             | The scratch model is generally slower and depends on hyperparameters such as learning rate and number of iterations.|\n",
    "| Roburstness   | Strong, stable, less sensitive with learning rate                | more sensitive and prone to errors if hyperparameters are not well-tuned.|\n",
    "|Interpretability & Ease of use           | luser-friendly, provides built-in functions for log-loss and accuracy, and supports regularization and multiple solvers|more complex to implement but still allows calculation of log-loss and accuracy, making it suitable for academic exercises or practical learning |\n",
    "|Error analysis        | Sklearn provide confusion matrix with detailed each cases most of analysis are true mean while there are some cases that sentiment are misslabeled and total mislabeled cases are 10 | less error analysis but we can not see more detail to understand error  |\n"
   ]
  },
  {
   "cell_type": "markdown",
   "id": "d29b8f1d",
   "metadata": {},
   "source": [
    "<p align = 'left'> - About performace :\n",
    "<p align = 'left'> + The coefficients of Sklearn LogisticRegression and the Scratch Model are both quite small, indicating that each feature has a mild impact on the prediction.\n",
    "<p align = 'left'> + Sklearn: 0.015098 → lower, meaning the model converged well and has a low error cost on the data.\n",
    "<p align = 'left'> + Scratch Model: 0.1016 → higher, implying that the manual gradient descent is not as optimized as Sklearn’s solver, though still reasonably low.\n",
    "<p align = 'left'> + Both models achieve very high accuracy (>99%), showing excellent overall prediction performance.\n"
   ]
  },
  {
   "cell_type": "markdown",
   "id": "86dd3f6d",
   "metadata": {},
   "source": [
    "### Ex2: In this line of code, if we change the number of iterations to, say, 100K, you might get some “divided by zero” error. Explain why and find a correction.\n",
    "gradientDescent(X, Y, np.zeros((3, 1)), 1e-9, 10000)"
   ]
  },
  {
   "cell_type": "markdown",
   "id": "827fc1c9",
   "metadata": {},
   "source": [
    "<p align=\"left\"> - If changing the number of iterations to 100k, we might get \"devided by zero\" error because we use gradient descent to update the coefficient, so in logistic regression, the algorithm may converge to a solution where gradient become very small approaching 0. Then, during the computation of the cost function in logistic regression, we take log(y_predict). If y_predict gets extremely close to 0, this leads to evaluating log ⁡( 0 ), which is undefined and causes the error.\n",
    "<p align = 'left'> - To correct, we have 2 ways:\n",
    "<p align = 'left'> + Using np.clip(array, min_value, max_value): this function acts like when value < min_value then set the value = min_value and similar to max_value so that the gradient descent can control the range of value and make sure that y_predict won't apprach 0.\n",
    "<p align = 'left'> + Adding a small constant when computing the log terms to avoid zero: \n",
    "<p align = 'center'> J = - (np.dot(y.T, np.log(y_pred + small_cons)) + np.dot((1-y).T, np.log(1-h + small_cons))) / float(m)\n"
   ]
  },
  {
   "cell_type": "markdown",
   "id": "997106e8",
   "metadata": {},
   "source": [
    "### Ex3: In Feature Engineering part, given a sentence s, we build two features: the positive frequency of s and the negative frequency of s. Given a sentence s, normalize these two features with respect to N = train_set_length * the length of s. Compare your result with the original one in the course. Is that normalization a good thing to do?"
   ]
  },
  {
   "cell_type": "markdown",
   "id": "eb3a5745",
   "metadata": {},
   "source": [
    "i add normalization in function of extracting feature in ex1 for short "
   ]
  },
  {
   "cell_type": "code",
   "execution_count": 16,
   "id": "275834c9",
   "metadata": {},
   "outputs": [
    {
     "name": "stderr",
     "output_type": "stream",
     "text": [
      "C:\\Users\\ADMIN\\AppData\\Local\\Temp\\ipykernel_10700\\972092760.py:19: DeprecationWarning: Conversion of an array with ndim > 0 to a scalar is deprecated, and will error in future. Ensure you extract a single element from your array before performing this operation. (Deprecated NumPy 1.25.)\n",
      "  losses.append(float(J))\n",
      "C:\\Users\\ADMIN\\AppData\\Local\\Temp\\ipykernel_10700\\972092760.py:22: DeprecationWarning: Conversion of an array with ndim > 0 to a scalar is deprecated, and will error in future. Ensure you extract a single element from your array before performing this operation. (Deprecated NumPy 1.25.)\n",
      "  J = float(J)\n"
     ]
    },
    {
     "data": {
      "image/png": "[encoded data removed]",
      "text/plain": [
       "<Figure size 500x300 with 1 Axes>"
      ]
     },
     "metadata": {},
     "output_type": "display_data"
    },
    {
     "name": "stdout",
     "output_type": "stream",
     "text": [
      "The cost after training with normalization is 0.69314717.\n",
      "The resulting vector of weights is [0.0, 1.5e-07, -2.3e-07]\n",
      "Logistic regression model's accuracy with normalization = 0.9895\n"
     ]
    }
   ],
   "source": [
    "X2 = np.zeros((len(train_x), 3))\n",
    "for i in range(len(train_x)):\n",
    "    X2[i, :]= extract_features(train_x[i], freqs, normalization=True)\n",
    "    \n",
    "J2, w2 = gradient_descent_logistic(X2, Y, np.zeros((3, 1)), 1e-9, 10000)\n",
    "print(f\"The cost after training with normalization is {J2:.8f}.\")\n",
    "print(f\"The resulting vector of weights is {[round(t, 8) for t in np.squeeze(w2)]}\")\n",
    "tmp_accuracy = test_logistic_regression(test_x, test_y, freqs, w2)\n",
    "print(f\"Logistic regression model's accuracy with normalization = {tmp_accuracy:.4f}\")\n"
   ]
  },
  {
   "cell_type": "code",
   "execution_count": 17,
   "id": "dc9f875f",
   "metadata": {},
   "outputs": [
    {
     "name": "stdout",
     "output_type": "stream",
     "text": [
      "Label Predicted Tweet\n",
      "21\n"
     ]
    }
   ],
   "source": [
    "print('Label Predicted Tweet')\n",
    "countt = 0\n",
    "for x,y in zip(test_x,test_y):\n",
    "    y_hat = predict_tweet(x, freqs, w2)\n",
    "\n",
    "    if np.abs(y - (y_hat > 0.5)) > 0:\n",
    "        countt+=1\n",
    "print(countt)"
   ]
  },
  {
   "cell_type": "code",
   "execution_count": 18,
   "id": "7696a29c",
   "metadata": {},
   "outputs": [
    {
     "name": "stdout",
     "output_type": "stream",
     "text": [
      ":( but wtf am I supposed to do now without her\n",
      "[[0.01632025]] [[0.49978414]]\n"
     ]
    }
   ],
   "source": [
    "# Compare resutl in predict a sentence\n",
    "tweet = test_x[1009]\n",
    "y_pred1 = predict_tweet(tweet, freqs, w)\n",
    "y_pred2 = predict_tweet(tweet, freqs, w2)\n",
    "print(tweet)\n",
    "print(y_pred1, y_pred2)"
   ]
  },
  {
   "cell_type": "markdown",
   "id": "53242476",
   "metadata": {},
   "source": [
    "- The probabilities for sentence to be positive are different between model applying normalization to N and original model. While the probability of original model is clearly show the class of sentence's sentiment is negative while the probability of model applying normalization to N is quite near 0.5 so it's not clearly when put the sentiment  for sentences"
   ]
  },
  {
   "cell_type": "markdown",
   "id": "a04c6c85",
   "metadata": {},
   "source": [
    "||model with normalization to N| model without normalization to N|\n",
    "|-----------------|-----------------------------------|--------------------------|\n",
    "|Cost|0.69314717|0.10157921|\n",
    "|Weights|[0.0, 1.5e-07, -2.3e-07]|[3e-07, 0.00127323, -0.001111]|\n",
    "|Accuracy|0.9895|0.9960|\n",
    "|Error analysis|21|8|"
   ]
  },
  {
   "cell_type": "markdown",
   "id": "b4f5e1ce",
   "metadata": {},
   "source": [
    "- Normalization as defined here is not beneficial for this dataset due to higher loss, more error analysis cases, and slight decreased accuracy, the coefficients are approaching to 0 make sigmoid approach 0.5 and make more difficult to classify class.\n",
    "- Model without normalization produces better convergence, higher confidence predictions, and fewer errors and the coefficients are good enough for classifying."
   ]
  },
  {
   "cell_type": "markdown",
   "id": "144ab39f",
   "metadata": {},
   "source": [
    "=> Normalization is a good method because rescaling features gives them a consistent scale, often between 0 and 1. It can help models converge faster, prevent features with large scales from dominating, and improve performance for distance-based models. However, normalization is not always necessary: tree-based models (like Decision Trees, Random Forests, and Gradient Boosted Trees) often don’t require it, because splits are based on thresholds rather than distances. Similarly, if the features are already on a similar scale, normalization may have little impact. Finally, it is important to choose the most suitable method when scaling data"
   ]
  }
 ],
 "metadata": {
  "kernelspec": {
   "display_name": "Python 3",
   "language": "python",
   "name": "python3"
  },
  "language_info": {
   "codemirror_mode": {
    "name": "ipython",
    "version": 3
   },
   "file_extension": ".py",
   "mimetype": "text/x-python",
   "name": "python",
   "nbconvert_exporter": "python",
   "pygments_lexer": "ipython3",
   "version": "3.12.6"
  }
 },
 "nbformat": 4,
 "nbformat_minor": 5
}
