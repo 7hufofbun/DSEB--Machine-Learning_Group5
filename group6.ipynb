{
 "cells": [
  {
   "cell_type": "markdown",
   "id": "4f96f0e3",
   "metadata": {},
   "source": [
    "### Homework session 5 _ Group 6\n",
    "Members:\n",
    "- Đỗ Ánh Ly\n",
    "- Nguyễn Phú Nam\n",
    "- Phạm Vân Thư\n",
    "- Nguyễn Vinh Khánh\n",
    "- Đỗ Hữu Kiên"
   ]
  },
  {
   "cell_type": "code",
   "execution_count": 36,
   "id": "776ed251",
   "metadata": {},
   "outputs": [],
   "source": [
    "import nltk\n",
    "import numpy as np\n",
    "import pandas as pd\n",
    "from nltk.corpus import twitter_samples\n",
    "import matplotlib.pyplot as plt\n",
    "from mpl_toolkits.mplot3d import Axes3D"
   ]
  },
  {
   "cell_type": "markdown",
   "id": "8fa4c2fd",
   "metadata": {},
   "source": [
    "### Get data"
   ]
  },
  {
   "cell_type": "code",
   "execution_count": 37,
   "id": "53feb193",
   "metadata": {},
   "outputs": [],
   "source": [
    "# nltk.download('twitter_samples')\n",
    "# nltk.download('stopwords')"
   ]
  },
  {
   "cell_type": "code",
   "execution_count": 38,
   "id": "ab69d193",
   "metadata": {},
   "outputs": [],
   "source": [
    "all_positive_tweets = twitter_samples.strings('positive_tweets.json')\n",
    "all_negative_tweets = twitter_samples.strings('negative_tweets.json')\n",
    "\n",
    "# split data into train and test set\n",
    "test_pos = all_positive_tweets[4000:]\n",
    "train_pos = all_positive_tweets[:4000]\n",
    "test_neg = all_negative_tweets[4000:]\n",
    "train_neg = all_negative_tweets[:4000]\n",
    "\n",
    "train_x = train_pos + train_neg \n",
    "test_x = test_pos + test_neg\n",
    "\n",
    "# Create the numpy array of positive labels and negative labels.\n",
    "train_y = np.append(np.ones((len(train_pos), 1)), np.zeros((len(train_neg), 1)), axis=0)\n",
    "test_y = np.append(np.ones((len(test_pos), 1)), np.zeros((len(test_neg), 1)), axis=0)"
   ]
  },
  {
   "cell_type": "markdown",
   "id": "44cb6e71",
   "metadata": {},
   "source": [
    "### Data preprocessing"
   ]
  },
  {
   "cell_type": "code",
   "execution_count": 39,
   "id": "79c3cba7",
   "metadata": {},
   "outputs": [],
   "source": [
    "from nltk.stem import PorterStemmer\n",
    "from nltk.tokenize import TweetTokenizer\n",
    "from nltk.corpus import stopwords\n",
    "import re\n",
    "import string\n",
    "\n",
    "def process_tweet(tweet):\n",
    "    stemmer = PorterStemmer()\n",
    "    stopwords_english = stopwords.words('english')\n",
    "\n",
    "    # remove stock market tickers like $GE\n",
    "    tweet = re.sub(r'\\$\\w*', '', tweet)\n",
    "    # remove old style retweet text \"RT\"\n",
    "    tweet = re.sub(r'^RT[\\s]+', '', tweet)\n",
    "    # remove hyperlinks\n",
    "    tweet = re.sub(r'https?://[^\\s\\n\\r]+', '', tweet)\n",
    "    # remove hashtags\n",
    "    # only removing the hash # sign from the word\n",
    "    tweet = re.sub(r'#', '', tweet)\n",
    "\n",
    "    # tokenize tweets\n",
    "    tokenizer = TweetTokenizer(preserve_case=False, strip_handles=True, reduce_len=True) #the tokenizer will downcase everything except for emoticons\n",
    "    tweet_tokens = tokenizer.tokenize(tweet)\n",
    "\n",
    "    tweets_clean = []\n",
    "    for word in tweet_tokens:\n",
    "        if (word not in stopwords_english and   # remove stopwords\n",
    "                word not in string.punctuation): # remove punctuation\n",
    "            stem_word = stemmer.stem(word)\n",
    "            tweets_clean.append(stem_word)\n",
    "\n",
    "    return tweets_clean"
   ]
  },
  {
   "cell_type": "markdown",
   "id": "c7f7224f",
   "metadata": {},
   "source": [
    "### Feature engineering"
   ]
  },
  {
   "cell_type": "code",
   "execution_count": 40,
   "id": "2250b5d3",
   "metadata": {},
   "outputs": [],
   "source": [
    "def build_freqs(tweets, ys):\n",
    "    \"\"\" Build frequencies\n",
    "    Input:\n",
    "    tweets: a list of tweets\n",
    "    ys: an mx1 array with the sentiment label of each tweet (either 0 or 1)\n",
    "    Output:\n",
    "    freqs: a dictionary mapping each (word, sentiment) pair to its frequency\n",
    "    \"\"\"\n",
    "    yslist = np.squeeze(ys).tolist()\n",
    "    # start with an empty dict and populate it by looping over all tweets\n",
    "    freqs = {}\n",
    "    for y, tweet in zip(yslist, tweets):\n",
    "        for word in process_tweet(tweet):\n",
    "            pair = (word, y)\n",
    "            if pair in freqs:\n",
    "                freqs[pair] += 1\n",
    "            else:\n",
    "                freqs[pair] = 1\n",
    "\n",
    "    return freqs\n",
    "freqs = build_freqs(train_x, train_y)"
   ]
  },
  {
   "cell_type": "markdown",
   "id": "6ce6c614",
   "metadata": {},
   "source": [
    "### Feature extraction"
   ]
  },
  {
   "cell_type": "code",
   "execution_count": 41,
   "id": "dac67091",
   "metadata": {},
   "outputs": [],
   "source": [
    "def extract_features(tweet, freqs = freqs, process_tweet=process_tweet, train_set_length = len(train_x), normalization = False):\n",
    "    word_l = process_tweet(tweet)\n",
    "    \n",
    "    # 3 elements in the form of a 1 x 3 vector\n",
    "    x = np.zeros((1, 3)) \n",
    "    \n",
    "    #bias term is set to 1\n",
    "    x[0,0] = 1    \n",
    "    # loop through each word in the list of words\n",
    "    for word in word_l:\n",
    "        \n",
    "        # increment the word count for the positive label 1\n",
    "        if (word, 1) in freqs.keys():\n",
    "            x[0,1] += freqs[(word, 1)]\n",
    "        \n",
    "        # increment the word count for the negative label 0\n",
    "        if (word, 0) in freqs.keys():\n",
    "            x[0,2] += freqs[(word, 0)]\n",
    "        \n",
    "    assert(x.shape == (1, 3))\n",
    "    return x\n"
   ]
  },
  {
   "cell_type": "markdown",
   "id": "cd1a5531",
   "metadata": {},
   "source": [
    "### Logistic regression"
   ]
  },
  {
   "cell_type": "code",
   "execution_count": 42,
   "id": "ce756b20",
   "metadata": {},
   "outputs": [],
   "source": [
    "def sigmoid(z): \n",
    "    h = 1. / (1. + np.exp(-z))\n",
    "    return h\n",
    "\n",
    "import matplotlib.pyplot as plt\n",
    "\n",
    "def gradient_descent_logistic(x, y, theta, alpha, num_iters):\n",
    "    m = len(x)\n",
    "    losses = []\n",
    "    eps = 1e-15\n",
    "    for i in range(0, num_iters):\n",
    "        \n",
    "        # get z, the dot product of x and theta\n",
    "        z = np.dot(x, theta)\n",
    "        eps = 1e-15\n",
    "        \n",
    "        # get the sigmoid of z\n",
    "        h = sigmoid(z)\n",
    "        h_clipped = np.clip(h, eps, 1 - eps)\n",
    "        # calculate the cost function\n",
    "        J = - (np.dot(y.T, np.log(h_clipped)) + np.dot((1-y).T, np.log(1-h_clipped))) / float(m)\n",
    "        losses.append(float(J))\n",
    "        # update the weights theta\n",
    "        theta = theta - (alpha * np.dot(x.T, (h-y))) / float(m)\n",
    "    J = float(J)\n",
    "    \n",
    "    # plot the loss function\n",
    "    iter_list = np.arange(1, num_iters + 1, 1)\n",
    "    plt.figure(figsize=(5, 3))\n",
    "    plt.plot(iter_list, losses, color='green', label='loss')\n",
    "    plt.xlabel('number of iterations')\n",
    "    plt.ylabel('loss')\n",
    "    plt.legend()\n",
    "    plt.show()\n",
    "\n",
    "    return J, theta\n",
    "def predict_tweet(tweet, freqs, theta):\n",
    "    x = extract_features(tweet, freqs)\n",
    "    # make the prediction using x and theta\n",
    "    y_pred = sigmoid(np.dot(x, theta))\n",
    "    \n",
    "    return y_pred\n",
    "def test_logistic_regression(test_x, test_y, freqs, theta, predict_tweet=predict_tweet):\n",
    "    y_hat = list()\n",
    "    \n",
    "    for tweet in test_x:\n",
    "        # get the label prediction for the tweet\n",
    "        y_pred = predict_tweet(tweet, freqs, theta)\n",
    "        \n",
    "        if y_pred > 0.5:\n",
    "            # append 1.0 to the list\n",
    "            y_hat.append(1.0)\n",
    "        else:\n",
    "            # append 0 to the list\n",
    "            y_hat.append(0.0)\n",
    "\n",
    "    accuracy = np.sum(y_hat == np.squeeze(test_y)) / len(test_y)    \n",
    "    return accuracy\n"
   ]
  },
  {
   "cell_type": "code",
   "execution_count": 43,
   "id": "0d2f8d98",
   "metadata": {},
   "outputs": [
    {
     "data": {
      "image/png": "[encoded data removed]",
      "text/plain": [
       "<Figure size 500x300 with 1 Axes>"
      ]
     },
     "metadata": {},
     "output_type": "display_data"
    },
    {
     "name": "stdout",
     "output_type": "stream",
     "text": [
      "The cost after training is 0.10157921.\n",
      "The resulting vector of weights is [3e-07, 0.00127323, -0.001111]\n",
      "Logistic regression model's accuracy = 0.9960\n"
     ]
    }
   ],
   "source": [
    "# Result of model scratch\n",
    "# collect the features 'x' and stack them into a matrix 'X'\n",
    "X = np.zeros((len(train_x), 3))\n",
    "for i in range(len(train_x)):\n",
    "    X[i, :]= extract_features(train_x[i], freqs)\n",
    "\n",
    "# training labels corresponding to X\n",
    "Y = train_y\n",
    "\n",
    "# Apply gradient descent\n",
    "J, w = gradient_descent_logistic(X, Y, np.zeros((3, 1)), 1e-9, 10000)\n",
    "print(f\"The cost after training is {J:.8f}.\")\n",
    "print(f\"The resulting vector of weights is {[round(t, 8) for t in np.squeeze(w)]}\")\n",
    "tmp_accuracy = test_logistic_regression(test_x, test_y, freqs, w)\n",
    "print(f\"Logistic regression model's accuracy = {tmp_accuracy:.4f}\")\n"
   ]
  },
  {
   "cell_type": "code",
   "execution_count": 44,
   "id": "06ff2dc4",
   "metadata": {},
   "outputs": [
    {
     "name": "stdout",
     "output_type": "stream",
     "text": [
      "Label Predicted Tweet\n",
      "THE TWEET IS: @msarosh Uff Itna Miss karhy thy ap :p\n",
      "THE PROCESSED TWEET IS: ['uff', 'itna', 'miss', 'karhi', 'thi', 'ap', ':p']\n",
      "1\t0.47137167\tb'uff itna miss karhi thi ap :p'\n",
      "THE TWEET IS: @phenomyoutube u probs had more fun with david than me : (\n",
      "THE PROCESSED TWEET IS: ['u', 'prob', 'fun', 'david']\n",
      "0\t0.53251630\tb'u prob fun david'\n",
      "THE TWEET IS: pats jay : (\n",
      "THE PROCESSED TWEET IS: ['pat', 'jay']\n",
      "0\t0.50095500\tb'pat jay'\n",
      "THE TWEET IS: @bae_ts WHATEVER STIL L YOUNG &gt;:-(\n",
      "THE PROCESSED TWEET IS: ['whatev', 'stil', 'l', 'young', '>:-(']\n",
      "0\t0.50032454\tb'whatev stil l young >:-('\n",
      "THE TWEET IS: my beloved grandmother : ( https://t.co/wt4oXq5xCf\n",
      "THE PROCESSED TWEET IS: ['belov', 'grandmoth']\n",
      "0\t0.50000008\tb'belov grandmoth'\n",
      "THE TWEET IS: @CHEDA_KHAN Thats life. I get calls from people I havent seen in 20 years and its always favours : (\n",
      "THE PROCESSED TWEET IS: ['that', 'life', 'get', 'call', 'peopl', 'havent', 'seen', '20', 'year', 'alway', 'favour']\n",
      "0\t0.50564988\tb'that life get call peopl havent seen 20 year alway favour'\n",
      "THE TWEET IS: Sr. Financial Analyst - Expedia, Inc.: (#Bellevue, WA) http://t.co/ktknMhvwCI #Finance #ExpediaJobs #Job #Jobs #Hiring\n",
      "THE PROCESSED TWEET IS: ['sr', 'financi', 'analyst', 'expedia', 'inc', 'bellevu', 'wa', 'financ', 'expediajob', 'job', 'job', 'hire']\n",
      "0\t0.51644293\tb'sr financi analyst expedia inc bellevu wa financ expediajob job job hire'\n",
      "THE TWEET IS: @ITVCentral #Midlands Yes thanks for the depressing weather forecast, where the word 'rain' was mentioned several times :-(\n",
      "THE PROCESSED TWEET IS: ['midland', 'ye', 'thank', 'depress', 'weather', 'forecast', 'word', 'rain', 'mention', 'sever', 'time', ':-(']\n",
      "0\t0.53527788\tb'midland ye thank depress weather forecast word rain mention sever time :-('\n",
      "The number of error analysis using model scratch 8\n"
     ]
    }
   ],
   "source": [
    "print('Label Predicted Tweet')\n",
    "countt = 0\n",
    "for x,y in zip(test_x,test_y):\n",
    "    y_hat = predict_tweet(x, freqs, w)\n",
    "\n",
    "    if np.abs(y - (y_hat > 0.5)) > 0:\n",
    "        print('THE TWEET IS:', x)\n",
    "        print('THE PROCESSED TWEET IS:', process_tweet(x))\n",
    "        print('%d\\t%0.8f\\t%s' % (y, y_hat, ' '.join(process_tweet(x)).encode('ascii', 'ignore')))\n",
    "        countt += 1\n",
    "print(\"The number of error analysis using model scratch\", countt)"
   ]
  },
  {
   "cell_type": "markdown",
   "id": "4838ca32",
   "metadata": {},
   "source": [
    "### Ex1: Make use of Logistic Regression model from scikit-learn or some other packages in Python, run the Sentiment Analysis solution again and make a very thorough comparison with what we implemented from scratch."
   ]
  },
  {
   "cell_type": "code",
   "execution_count": 45,
   "id": "cfe4d556",
   "metadata": {},
   "outputs": [
    {
     "name": "stdout",
     "output_type": "stream",
     "text": [
      "[0.23910221] [[ 0.23908787  0.00827686 -0.00966569]]\n",
      "Logistic regression model's accuracy = 0.9950\n",
      "Cost = 0.015098\n",
      "\n",
      "              precision    recall  f1-score   support\n",
      "\n",
      "         0.0       1.00      0.99      0.99      1000\n",
      "         1.0       0.99      1.00      1.00      1000\n",
      "\n",
      "    accuracy                           0.99      2000\n",
      "   macro avg       1.00      0.99      0.99      2000\n",
      "weighted avg       1.00      0.99      0.99      2000\n",
      "\n"
     ]
    }
   ],
   "source": [
    "# Result from LogisticRegresison from sklearn\n",
    "from sklearn.metrics import accuracy_score, log_loss, classification_report\n",
    "from sklearn.linear_model import LogisticRegression\n",
    "logreg = LogisticRegression()\n",
    "logreg.fit(X, Y)\n",
    "print(logreg.intercept_,logreg.coef_)\n",
    "x_test = np.zeros((len(test_x), 3))\n",
    "for i in range(len(test_x)):\n",
    "    x_test[i, :]= extract_features(test_x[i], freqs)\n",
    "y_pred = logreg.predict(x_test)\n",
    "acc = accuracy_score(test_y, y_pred)\n",
    "\n",
    "print(f\"Logistic regression model's accuracy = {acc:.4f}\")\n",
    "\n",
    "y_prob = logreg.predict_proba(x_test)   # xác suất dự đoán\n",
    "cost = log_loss(test_y, y_prob)\n",
    "print(f\"Cost = {cost:.6f}\")\n",
    "print()\n",
    "report = classification_report(test_y, y_pred)\n",
    "print(report)"
   ]
  },
  {
   "cell_type": "code",
   "execution_count": 46,
   "id": "a59d2dc1",
   "metadata": {},
   "outputs": [
    {
     "name": "stdout",
     "output_type": "stream",
     "text": [
      "[[992   8]\n",
      " [  2 998]]\n"
     ]
    },
    {
     "data": {
      "image/png": "[encoded data removed]",
      "text/plain": [
       "<Figure size 640x480 with 2 Axes>"
      ]
     },
     "metadata": {},
     "output_type": "display_data"
    }
   ],
   "source": [
    "from sklearn.metrics import confusion_matrix\n",
    "import seaborn as sns\n",
    "import matplotlib.pyplot as plt\n",
    "\n",
    "# y_true: nhãn thật\n",
    "# y_pred: nhãn dự đoán từ model\n",
    "y_pred = logreg.predict(x_test)\n",
    "\n",
    "# Tạo confusion matrix\n",
    "cm = confusion_matrix(test_y, y_pred)\n",
    "print(cm)\n",
    "\n",
    "# Visualize\n",
    "sns.heatmap(cm, annot=True, fmt='d', cmap='Blues')\n",
    "plt.xlabel('Predicted')\n",
    "plt.ylabel('Actual')\n",
    "plt.show()\n"
   ]
  },
  {
   "cell_type": "code",
   "execution_count": null,
   "id": "9d6525f8",
   "metadata": {},
   "outputs": [
    {
     "name": "stdout",
     "output_type": "stream",
     "text": [
      "THE TWEET IS: @MarkBreech Not sure it would be good thing 4 my bottom daring 2 say 2 Miss B but Im gonna be so stubborn on mouth soaping ! #NotHavingit :p\n",
      "THE PROCESSED TWEET IS: ['sure', 'would', 'good', 'thing', '4', 'bottom', 'dare', '2', 'say', '2', 'miss', 'b', 'im', 'gonna', 'stubborn', 'mouth', 'soap', 'nothavingit', ':p']\n",
      "True label: 1\tPredicted prob: 0.00000000\tPredicted label: 0\n",
      "THE TWEET IS: @msarosh Uff Itna Miss karhy thy ap :p\n",
      "THE PROCESSED TWEET IS: ['uff', 'itna', 'miss', 'karhi', 'thi', 'ap', ':p']\n",
      "True label: 1\tPredicted prob: 0.00000000\tPredicted label: 0\n",
      "THE TWEET IS: @phenomyoutube u probs had more fun with david than me : (\n",
      "THE PROCESSED TWEET IS: ['u', 'prob', 'fun', 'david']\n",
      "True label: 0\tPredicted prob: 1.00000000\tPredicted label: 1\n",
      "THE TWEET IS: @bumkeyyfel b-butt : ( isn't black cat a bad luck ene\n",
      "THE PROCESSED TWEET IS: ['b-butt', 'black', 'cat', 'bad', 'luck', 'ene']\n",
      "True label: 0\tPredicted prob: 1.00000000\tPredicted label: 1\n",
      "THE TWEET IS: pats jay : (\n",
      "THE PROCESSED TWEET IS: ['pat', 'jay']\n",
      "True label: 0\tPredicted prob: 1.00000000\tPredicted label: 1\n",
      "THE TWEET IS: @bae_ts WHATEVER STIL L YOUNG &gt;:-(\n",
      "THE PROCESSED TWEET IS: ['whatev', 'stil', 'l', 'young', '>:-(']\n",
      "True label: 0\tPredicted prob: 1.00000000\tPredicted label: 1\n",
      "THE TWEET IS: don't sleep. I'm here : (\n",
      "THE PROCESSED TWEET IS: ['sleep']\n",
      "True label: 0\tPredicted prob: 1.00000000\tPredicted label: 1\n",
      "THE TWEET IS: the internet is being a total bitch : (\n",
      "THE PROCESSED TWEET IS: ['internet', 'total', 'bitch']\n",
      "True label: 0\tPredicted prob: 1.00000000\tPredicted label: 1\n",
      "THE TWEET IS: my beloved grandmother : ( https://t.co/wt4oXq5xCf\n",
      "THE PROCESSED TWEET IS: ['belov', 'grandmoth']\n",
      "True label: 0\tPredicted prob: 1.00000000\tPredicted label: 1\n",
      "THE TWEET IS: Sr. Financial Analyst - Expedia, Inc.: (#Bellevue, WA) http://t.co/ktknMhvwCI #Finance #ExpediaJobs #Job #Jobs #Hiring\n",
      "THE PROCESSED TWEET IS: ['sr', 'financi', 'analyst', 'expedia', 'inc', 'bellevu', 'wa', 'financ', 'expediajob', 'job', 'job', 'hire']\n",
      "True label: 0\tPredicted prob: 1.00000000\tPredicted label: 1\n",
      "The number of error analysis using sklearn: 10\n"
     ]
    }
   ],
   "source": [
    "# Lấy xác suất dự đoán cho class 1\n",
    "y_hat= y_prob[:, 1]\n",
    "\n",
    "# Chuyển xác suất sang nhãn 0/1\n",
    "y_pred_labels = (y_hat> 0.5).astype(int)\n",
    "\n",
    "num = 0\n",
    "for x, y_true, prob in zip(test_x, test_y, y_pred_labels):\n",
    "    y_pred_labels = int(prob > 0.5)  \n",
    "    if y_true != y_pred_labels:\n",
    "        print('THE TWEET IS:', x)\n",
    "        print('THE PROCESSED TWEET IS:', process_tweet(x))\n",
    "        print('True label: %d\\tPredicted prob: %0.8f\\tPredicted label: %d' % (y_true, prob, y_pred_labels))\n",
    "        num += 1\n",
    "\n",
    "print(\"The number of error analysis using sklearn:\", num)\n"
   ]
  },
  {
   "cell_type": "markdown",
   "id": "2eb23675",
   "metadata": {},
   "source": [
    "| Criteria       | Sklearn LogisticRegression        | Model Scratch |\n",
    "|-----------------|-----------------------------------|--------------------------|\n",
    "| Coefficients    | [0.239, 0.0083, -0.0097]          | [3e-07, 0.00127, -0.0011]|\n",
    "| Loss           |  0.015098                  | 0.1016                   |\n",
    "| Accuracy        | 0.9950                            | 0.9960                   |\n",
    "| Error analysis cases         | 10                         | 8                  |\n"
   ]
  },
  {
   "cell_type": "markdown",
   "id": "72b8cb48",
   "metadata": {},
   "source": [
    "| Criteria       | Sklearn LogisticRegression        | Model Scratch |\n",
    "|-----------------|-----------------------------------|--------------------------|\n",
    "| Training method | Scikit-learn does not run plain GD. Instead, it solves the problem via Maximum Likelihood Estimation (MLE) under the hood. The optimization is performed by advanced solvers like LBFGS, liblinear, saga, etc. These are quasi-Newton methods or coordinate descent algorithms, which are more efficient and numerically stable than vanilla GD. These solvers find the parameter values that maximize the likelihood (equivalently, minimize the negative log-likelihood / cross-entropy). They also natively handle regularization (L1/L2 penalty), which helps prevent overfitting and improves generalization.| We explicitly define the logistic regression cost function (cross-entropy / negative log-likelihood) and minimize it using Gradient Descent (GD).This means at every iteration we compute the gradient of the cost with respect to the weights and update them step by step. The convergence and final performance depend on hyperparameters such as the learning rate and number of iterations.        |\n",
    "| Convergence speed    | Sklearn converges quickly and stably due to optimized solvers.                             | The scratch model is generally slower and depends on hyperparameters such as learning rate and number of iterations.|\n",
    "| Roburstness   | Strong, stable, less sensitive with learning rate                | more sensitive and prone to errors if hyperparameters are not well-tuned.|\n",
    "|Interpretability & Ease of use           | luser-friendly, provides built-in functions for log-loss and accuracy, and supports regularization and multiple solvers|more complex to implement but still allows calculation of log-loss and accuracy, making it suitable for academic exercises or practical learning |\n",
    "|Error analysis        | Sklearn provide confusion matrix with detailed each cases most of analysis are true mean while there are some cases that sentiment are misslabeled and total mislabeled cases are 10 | less error analysis but we can not see more detail to understand error  |\n"
   ]
  },
  {
   "cell_type": "markdown",
   "id": "bc5d5b42",
   "metadata": {},
   "source": [
    "<p align = 'left'> - About performace :\n",
    "<p align = 'left'> + The coefficients of Sklearn LogisticRegression and the Scratch Model are both quite small, indicating that each feature has a mild impact on the prediction.\n",
    "<p align = 'left'> + Sklearn: 0.015098 → lower, meaning the model converged well and has a low error cost on the data.\n",
    "<p align = 'left'> + Scratch Model: 0.1016 → higher, implying that the manual gradient descent is not as optimized as Sklearn’s solver, though still reasonably low.\n",
    "<p align = 'left'> + Both models achieve very high accuracy (>99%), showing excellent overall prediction performance.\n"
   ]
  },
  {
   "cell_type": "markdown",
   "id": "e8ace4c5",
   "metadata": {},
   "source": [
    "### Ex2: In this line of code, if we change the number of iterations to, say, 100K, you might get some “divided by zero” error. Explain why and find a correction.\n",
    "gradientDescent(X, Y, np.zeros((3, 1)), 1e-9, 10000)"
   ]
  },
  {
   "cell_type": "markdown",
   "id": "d11dbd89",
   "metadata": {},
   "source": [
    "<p align=\"left\"> - If changing the number of iterations to 100k, we might get \"devided by zero\" error because we use gradient descent to update the coefficient, so in logistic regression, the algorithm may converge to a solution where gradient become very small approaching 0. Then, during the computation of the cost function in logistic regression, we take log(y_predict). If y_predict gets extremely close to 0, this leads to evaluating log ⁡( 0 ), which is undefined and causes the error.\n",
    "<p align = 'left'> - To correct, we have 2 ways:\n",
    "<p align = 'left'> + Using np.clip(array, min_value, max_value): this function acts like when value < min_value then set the value = min_value and similar to max_value so that the gradient descent can control the range of value and make sure that y_predict won't apprach 0.\n",
    "<p align = 'left'> + Adding a small constant when computing the log terms to avoid zero: \n",
    "<p align = 'center'> J = - (np.dot(y.T, np.log(y_pred + small_cons)) + np.dot((1-y).T, np.log(1-h + small_cons))) / float(m)\n"
   ]
  },
  {
   "cell_type": "markdown",
   "id": "1f36ae88",
   "metadata": {},
   "source": [
    "### Ex3: In Feature Engineering part, given a sentence s, we build two features: the positive frequency of s and the negative frequency of s. Given a sentence s, normalize these two features with respect to N = train_set_length * the length of s. Compare your result with the original one in the course. Is that normalization a good thing to do?"
   ]
  },
  {
   "cell_type": "markdown",
   "id": "1e44e5c9",
   "metadata": {},
   "source": [
    "we add normalization in function of extracting feature as a case in original function extract_features() for short "
   ]
  },
  {
   "cell_type": "code",
   "execution_count": 48,
   "id": "031c436f",
   "metadata": {},
   "outputs": [],
   "source": [
    "def normalize_features(tweet, freqs = freqs, process_tweet = process_tweet, train_set_length = len(train_x)):\n",
    "    x = extract_features(tweet, freqs) \n",
    "    len_s = len(process_tweet(tweet)) \n",
    "    N = train_set_length * len_s if (len_s) > 0 else 1\n",
    "    x[0,1:] = x[0, 1:] / N\n",
    "    return x\n",
    "\n",
    "def predict_tweet2(tweet, freqs, theta, normalize_features = normalize_features):\n",
    "    x = normalize_features(tweet, freqs)\n",
    "    # make the prediction using x and theta\n",
    "    y_pred = sigmoid(np.dot(x, theta))\n",
    "    return y_pred\n",
    "def test_logistic_regression2(test_x, test_y, freqs, theta, predict_tweet2=predict_tweet2):\n",
    "    y_hat = list()\n",
    "    \n",
    "    for tweet in test_x:\n",
    "        # get the label prediction for the tweet\n",
    "        y_pred = predict_tweet2(tweet, freqs, theta)\n",
    "        \n",
    "        if y_pred > 0.5:\n",
    "            # append 1.0 to the list\n",
    "            y_hat.append(1.0)\n",
    "        else:\n",
    "            # append 0 to the list\n",
    "            y_hat.append(0.0)\n",
    "\n",
    "    accuracy = np.sum(y_hat == np.squeeze(test_y)) / len(test_y)    \n",
    "    return accuracy"
   ]
  },
  {
   "cell_type": "markdown",
   "id": "fe921df0",
   "metadata": {},
   "source": [
    "with small learning rate"
   ]
  },
  {
   "cell_type": "code",
   "execution_count": 49,
   "id": "15b99392",
   "metadata": {},
   "outputs": [
    {
     "data": {
      "image/png": "[encoded data removed]",
      "text/plain": [
       "<Figure size 500x300 with 1 Axes>"
      ]
     },
     "metadata": {},
     "output_type": "display_data"
    },
    {
     "name": "stdout",
     "output_type": "stream",
     "text": [
      "The cost after training with normalization is 0.69314717.\n",
      "The resulting vector of weights is [0.0, 1.5e-07, -2.3e-07]\n",
      "Logistic regression model's accuracy with normalization = 0.9895\n",
      "Label Predicted Tweet\n",
      "21\n"
     ]
    }
   ],
   "source": [
    "X2 = np.zeros((len(train_x), 3))\n",
    "for i in range(len(train_x)):\n",
    "    X2[i, :]= normalize_features(train_x[i])\n",
    "    \n",
    "J2, w2 = gradient_descent_logistic(X2, Y, np.zeros((3, 1)), 1e-9, 10000)\n",
    "print(f\"The cost after training with normalization is {J2:.8f}.\")\n",
    "print(f\"The resulting vector of weights is {[round(t, 8) for t in np.squeeze(w2)]}\")\n",
    "tmp_accuracy = test_logistic_regression2(test_x, test_y, freqs, w2)\n",
    "print(f\"Logistic regression model's accuracy with normalization = {tmp_accuracy:.4f}\")\n",
    "print('Label Predicted Tweet')\n",
    "countt = 0\n",
    "for x,y in zip(test_x,test_y):\n",
    "    y_hat = predict_tweet2(x, freqs, w2)\n",
    "    if np.abs(y - (y_hat > 0.5)) > 0:\n",
    "        countt+=1\n",
    "print(countt)"
   ]
  },
  {
   "cell_type": "code",
   "execution_count": 50,
   "id": "222db4ce",
   "metadata": {},
   "outputs": [
    {
     "name": "stdout",
     "output_type": "stream",
     "text": [
      ":( but wtf am I supposed to do now without her\n",
      "[[0.01632025]] [[0.49999999]]\n"
     ]
    }
   ],
   "source": [
    "# Compare resutl in predict a sentence\n",
    "tweet = test_x[1009]\n",
    "y_pred1 = predict_tweet(tweet, freqs, w)\n",
    "y_pred2 = predict_tweet2(tweet, freqs, w2)\n",
    "print(tweet)\n",
    "print(y_pred1, y_pred2)"
   ]
  },
  {
   "cell_type": "markdown",
   "id": "1c909442",
   "metadata": {},
   "source": [
    "with larger learning rate"
   ]
  },
  {
   "cell_type": "code",
   "execution_count": 51,
   "id": "f7f5704f",
   "metadata": {},
   "outputs": [
    {
     "data": {
      "image/png": "[encoded data removed]",
      "text/plain": [
       "<Figure size 500x300 with 1 Axes>"
      ]
     },
     "metadata": {},
     "output_type": "display_data"
    },
    {
     "name": "stdout",
     "output_type": "stream",
     "text": [
      "The cost after training with normalization is 0.13096722.\n",
      "The resulting vector of weights is [0.56387, 42.57002501, -53.26629848]\n",
      "Logistic regression model's accuracy with normalization = 0.9730\n",
      "Label Predicted Tweet\n",
      "54\n"
     ]
    }
   ],
   "source": [
    "X2 = np.zeros((len(train_x), 3))\n",
    "for i in range(len(train_x)):\n",
    "    X2[i, :]= normalize_features(train_x[i])\n",
    "    \n",
    "J2, w2 = gradient_descent_logistic(X2, Y, np.zeros((3, 1)), 1.5, 10000)\n",
    "print(f\"The cost after training with normalization is {J2:.8f}.\")\n",
    "print(f\"The resulting vector of weights is {[round(t, 8) for t in np.squeeze(w2)]}\")\n",
    "tmp_accuracy = test_logistic_regression2(test_x, test_y, freqs, w2)\n",
    "print(f\"Logistic regression model's accuracy with normalization = {tmp_accuracy:.4f}\")\n",
    "print('Label Predicted Tweet')\n",
    "countt = 0\n",
    "for x,y in zip(test_x,test_y):\n",
    "    y_hat = predict_tweet2(x, freqs, w2)\n",
    "    if np.abs(y - (y_hat > 0.5)) > 0:\n",
    "        countt+=1\n",
    "print(countt)"
   ]
  },
  {
   "cell_type": "code",
   "execution_count": 52,
   "id": "3f8f1023",
   "metadata": {},
   "outputs": [
    {
     "name": "stdout",
     "output_type": "stream",
     "text": [
      ":( but wtf am I supposed to do now without her\n",
      "[[0.01632025]] [[0.0037295]]\n"
     ]
    }
   ],
   "source": [
    "# Compare resutl in predict a sentence\n",
    "tweet = test_x[1009]\n",
    "y_pred1 = predict_tweet(tweet, freqs, w)\n",
    "y_pred2 = predict_tweet2(tweet, freqs, w2)\n",
    "print(tweet)\n",
    "print(y_pred1, y_pred2)"
   ]
  },
  {
   "cell_type": "markdown",
   "id": "7c6b1087",
   "metadata": {},
   "source": [
    "The probabilities for sentence to be positive are different between model applying normalization to N and original model. While the probability of original model is clearly show the class of sentence's sentiment is negative while the probability of model applying normalization to N is sensitive to the learning rate. With small learning rate, model show high cost with accuracy = 0.985 while one with large learning rate show small cost and accuracy = 0.9730 but with more cases of mislabeled. This is because: \n",
    "+ With a small learning rate, the features are very small, so the gradients are also tiny. Weight updates become negligible, the model struggles to learn, and the cost remains high. Surprisingly, accuracy may still look acceptable because logistic regression can default to predicting the majority class. \n",
    "+ With larger learning rate, the weight updates are amplified enough to reduce the cost, and probabilities look more “confident.” However, the model may converge to a different solution: accuracy decreases, cost is lower, but generalization is worse, leading to more misclassified cases despite higher confidence in predictions."
   ]
  },
  {
   "cell_type": "markdown",
   "id": "5c1b6f82",
   "metadata": {},
   "source": [
    "||model with normalization to N (small learning rate)| model with normalization to N(large learning rate)|model without normalization to N | \n",
    "|-----------------|-----------------------------------|--------------------------|--------------------------|\n",
    "|Cost|0.69314717| 0.37453641| 0.10157921|\n",
    "|Weights|[0.0, 1.5e-07, -2.3e-07]|[0.29442561, 10.04891542, -14.01799661]|[3e-07, 0.00127323, -0.001111]|\n",
    "|Accuracy|0.9895| 0.9500| 0.9960|\n",
    "|Error analysis|21|100| 8|"
   ]
  },
  {
   "cell_type": "markdown",
   "id": "1e4e63e7",
   "metadata": {},
   "source": [
    "=> Normalization is a good method because rescaling features gives them a consistent scale, often between 0 and 1. It can help models converge faster, prevent features with large scales from dominating, and improve performance for distance-based models. However, normalization is not always necessary: tree-based models (like Decision Trees, Random Forests, and Gradient Boosted Trees) often don’t require it, because splits are based on thresholds rather than distances. Similarly, if the features are already on a similar scale, normalization may have little impact. Finally, it is important to choose the most suitable method when scaling data"
   ]
  },
  {
   "cell_type": "markdown",
   "id": "378ed338",
   "metadata": {},
   "source": [
    "### Ex4: Apply standard scaling techniques such as min-max scaler, standard scaler, etc to the problem and comment."
   ]
  },
  {
   "cell_type": "code",
   "execution_count": 53,
   "id": "da9713da",
   "metadata": {},
   "outputs": [],
   "source": [
    "from sklearn.preprocessing import StandardScaler, MinMaxScaler\n",
    "std_scaler = StandardScaler()\n",
    "minmax_scaler = MinMaxScaler()"
   ]
  },
  {
   "cell_type": "code",
   "execution_count": 54,
   "id": "a4e0a6bf",
   "metadata": {},
   "outputs": [
    {
     "data": {
      "image/png": "[encoded data removed]",
      "text/plain": [
       "<Figure size 500x300 with 1 Axes>"
      ]
     },
     "metadata": {},
     "output_type": "display_data"
    },
    {
     "name": "stdout",
     "output_type": "stream",
     "text": [
      "The cost after training is 0.69311476.\n",
      "The resulting vector of weights is [0.0, 3.793e-05, -4.246e-05]\n",
      "Logistic regression model's accuracy = 0.9955\n"
     ]
    }
   ],
   "source": [
    "#using standard scaler\n",
    "X = np.zeros((len(train_x), 3))\n",
    "for i in range(len(train_x)):\n",
    "    X[i, :]= extract_features(train_x[i], freqs)\n",
    "X_std = std_scaler.fit_transform(X)\n",
    "Y = train_y\n",
    "J, w = gradient_descent_logistic(X_std, Y, np.zeros((3, 1)), 1e-9, 100000)\n",
    "print(f\"The cost after training is {J:.8f}.\")\n",
    "print(f\"The resulting vector of weights is {[round(t, 8) for t in np.squeeze(w)]}\")\n",
    "Z = test_logistic_regression(test_x, test_y, freqs, w, predict_tweet=predict_tweet)\n",
    "print(f\"Logistic regression model's accuracy = {Z:.4f}\")"
   ]
  },
  {
   "cell_type": "markdown",
   "id": "660a4369",
   "metadata": {},
   "source": [
    "<p align = 'left'> After using StandardScaler:\n",
    "<p align = 'left'> - The loss function become relatively linear within 100000 iterations with eta = 1e-8.\n",
    "<p align = 'left'> - The theta vector become smaller due to scaled data.\n",
    "<p align = 'left'> - The accuracy drops slightly for 0.05%\n"
   ]
  },
  {
   "cell_type": "code",
   "execution_count": 55,
   "id": "062a78d2",
   "metadata": {},
   "outputs": [
    {
     "data": {
      "image/png": "[encoded data removed]",
      "text/plain": [
       "<Figure size 500x300 with 1 Axes>"
      ]
     },
     "metadata": {},
     "output_type": "display_data"
    },
    {
     "name": "stdout",
     "output_type": "stream",
     "text": [
      "The cost after training is 0.46773037.\n",
      "The resulting vector of weights is [0.0, 0.31155979, -0.35454645]\n",
      "Logistic regression model's accuracy = 0.9955\n"
     ]
    }
   ],
   "source": [
    "J, w = gradient_descent_logistic(X_std, Y, np.zeros((3, 1)), 1e-5, 100000)\n",
    "print(f\"The cost after training is {J:.8f}.\")\n",
    "print(f\"The resulting vector of weights is {[round(t, 8) for t in np.squeeze(w)]}\")\n",
    "Z = test_logistic_regression(test_x, test_y, freqs, w, predict_tweet=predict_tweet)\n",
    "print(f\"Logistic regression model's accuracy = {Z:.4f}\")"
   ]
  },
  {
   "cell_type": "markdown",
   "id": "606df0f2",
   "metadata": {},
   "source": [
    "<p align = 'left'> When we increase alpha to 1e-5:\n",
    "\n",
    "<p align = 'left'> - The cost is further decreased.\n",
    "<p align = 'left'> - The convex of the loss function is more noticeable.\n",
    "<p align = 'left'>  - The accuracy remain 99.55%"
   ]
  },
  {
   "cell_type": "code",
   "execution_count": 56,
   "id": "7fbfc733",
   "metadata": {},
   "outputs": [
    {
     "data": {
      "image/png": "[encoded data removed]",
      "text/plain": [
       "<Figure size 500x300 with 1 Axes>"
      ]
     },
     "metadata": {},
     "output_type": "display_data"
    },
    {
     "name": "stdout",
     "output_type": "stream",
     "text": [
      "The cost after training is 0.69096633.\n",
      "The resulting vector of weights is [0.0, 0.02595044, -0.03882589]\n",
      "Logistic regression model's accuracy = 0.9905\n"
     ]
    }
   ],
   "source": [
    "#using MinMax scaler\n",
    "X = np.zeros((len(train_x), 3))\n",
    "for i in range(len(train_x)):\n",
    "    X[i, :]= extract_features(train_x[i], freqs)\n",
    "X_mm = minmax_scaler.fit_transform(X)\n",
    "Y = train_y\n",
    "J, w = gradient_descent_logistic(X_mm, Y, np.zeros((3, 1)), 1e-5, 100000)\n",
    "print(f\"The cost after training is {J:.8f}.\")\n",
    "print(f\"The resulting vector of weights is {[round(t, 8) for t in np.squeeze(w)]}\")\n",
    "Z = test_logistic_regression(test_x, test_y, freqs, w, predict_tweet=predict_tweet)\n",
    "print(f\"Logistic regression model's accuracy = {Z:.4f}\")"
   ]
  },
  {
   "cell_type": "markdown",
   "id": "04b66e33",
   "metadata": {},
   "source": [
    "Using MinMaxScaler, we notice a 0.5% drop in accuracy comparing to StandardScale"
   ]
  },
  {
   "cell_type": "code",
   "execution_count": 57,
   "id": "59327f96",
   "metadata": {},
   "outputs": [
    {
     "data": {
      "image/png": "[encoded data removed]",
      "text/plain": [
       "<Figure size 500x300 with 1 Axes>"
      ]
     },
     "metadata": {},
     "output_type": "display_data"
    },
    {
     "name": "stdout",
     "output_type": "stream",
     "text": [
      "The cost after training is 0.60560120.\n",
      "The resulting vector of weights is [0.0, 0.19650899, -0.22095362]\n",
      "Logistic regression model's accuracy = 0.9955\n"
     ]
    }
   ],
   "source": [
    "from sklearn.preprocessing import RobustScaler\n",
    "rb_scaler = RobustScaler()\n",
    "#using Robust scaler\n",
    "X = np.zeros((len(train_x), 3))\n",
    "for i in range(len(train_x)):\n",
    "    X[i, :]= extract_features(train_x[i], freqs)\n",
    "X_rb = rb_scaler.fit_transform(X)\n",
    "Y = train_y\n",
    "J, w = gradient_descent_logistic(X_rb, Y, np.zeros((3, 1)), 1e-5, 100000)\n",
    "print(f\"The cost after training is {J:.8f}.\")\n",
    "print(f\"The resulting vector of weights is {[round(t, 8) for t in np.squeeze(w)]}\")\n",
    "Z = test_logistic_regression(test_x, test_y, freqs, w, predict_tweet=predict_tweet)\n",
    "print(f\"Logistic regression model's accuracy = {Z:.4f}\")"
   ]
  },
  {
   "cell_type": "markdown",
   "id": "d943acc0",
   "metadata": {},
   "source": [
    "RobustScaler gives the equal accuracy comparing to StandardScaler at 99.55%."
   ]
  },
  {
   "cell_type": "markdown",
   "id": "8623f2d7",
   "metadata": {},
   "source": [
    "### Ex5: During the session, I gave a natural way to end up with Logistic Regression as the decision function for our Sentiment Analysis problem. Let’s come up with another decision function. Let \n",
    "$$ 𝑔(𝑠) = \\begin{cases}\n",
    "1 & \\text{if positive frequency $>$ negative frequency}\\\\\n",
    "0 & \\text{𝑜𝑡ℎ𝑒𝑟𝑤𝑖𝑠𝑒}\n",
    "\\end{cases}$$\n",
    "Note that g(s) =1 means the sentence s has positive sentiment.\n",
    "With such mathematical formulation, recompute the precision on the test set. Compare and Explain."
   ]
  },
  {
   "cell_type": "code",
   "execution_count": null,
   "id": "6b071d0d",
   "metadata": {},
   "outputs": [],
   "source": []
  },
  {
   "cell_type": "markdown",
   "id": "6c0f3985",
   "metadata": {},
   "source": [
    "### Ex6: In the course, we considered only two features to solve the problem. Let’s rerun the solution with 4 more features (6 in total) "
   ]
  },
  {
   "cell_type": "markdown",
   "id": "f98a73ca",
   "metadata": {},
   "source": [
    "### For model 2 features"
   ]
  },
  {
   "cell_type": "code",
   "execution_count": 58,
   "id": "d843add9",
   "metadata": {},
   "outputs": [],
   "source": [
    "def extract_2_features(tweet, freqs, process_tweet=process_tweet): #use for 2-feature model\n",
    "    '''\n",
    "    Input: \n",
    "        tweet: a list of words for one tweet\n",
    "        freqs: a dictionary corresponding to the frequencies of each tuple (word, label)\n",
    "    Output: \n",
    "        x: a feature vector of dimension (1,3)\n",
    "    '''\n",
    "    # process_tweet tokenizes, stems, and removes stopwords\n",
    "    word_l = process_tweet(tweet)\n",
    "    \n",
    "    # 3 elements in the form of a 1 x 3 vector\n",
    "    x = np.zeros((1, 3)) \n",
    "    \n",
    "    #bias term is set to 1\n",
    "    x[0,0] = 1    \n",
    "    # loop through each word in the list of words\n",
    "    for word in word_l:\n",
    "        \n",
    "        # increment the word count for the positive label 1\n",
    "        if (word, 1) in freqs.keys():\n",
    "            x[0,1] += freqs[(word, 1)]\n",
    "        \n",
    "        # increment the word count for the negative label 0\n",
    "        if (word, 0) in freqs.keys():\n",
    "            x[0,2] += freqs[(word, 0)]\n",
    "        \n",
    "    assert(x.shape == (1, 3))\n",
    "    return x"
   ]
  },
  {
   "cell_type": "code",
   "execution_count": 59,
   "id": "5e3c5145",
   "metadata": {},
   "outputs": [],
   "source": [
    "def predict_tweet_w2ft(tweet, freqs, theta): #use for 2-feature model\n",
    "    '''\n",
    "    Input: \n",
    "        tweet: a string\n",
    "        freqs: a dictionary corresponding to the frequencies of each tuple (word, label)\n",
    "        theta: (3,1) vector of weights\n",
    "    Output: \n",
    "        y_pred: the probability of a tweet being positive or negative\n",
    "    '''\n",
    "\n",
    "    # extract the features of the tweet and store it into x\n",
    "    x = extract_2_features(tweet, freqs)\n",
    "    # make the prediction using x and theta\n",
    "    y_pred = sigmoid(np.dot(x, theta))\n",
    "    \n",
    "    return y_pred"
   ]
  },
  {
   "cell_type": "code",
   "execution_count": 60,
   "id": "34cc193a",
   "metadata": {},
   "outputs": [
    {
     "data": {
      "image/png": "[encoded data removed]",
      "text/plain": [
       "<Figure size 500x300 with 1 Axes>"
      ]
     },
     "metadata": {},
     "output_type": "display_data"
    },
    {
     "name": "stdout",
     "output_type": "stream",
     "text": [
      "The cost after training is 0.10157921.\n",
      "The resulting vector of weights is [3e-07, 0.00127323, -0.001111]\n"
     ]
    }
   ],
   "source": [
    "# collect the features 'x' and stack them into a matrix 'X'\n",
    "X = np.zeros((len(train_x), 3))\n",
    "for i in range(len(train_x)):\n",
    "    X[i, :]= extract_2_features(train_x[i], freqs)\n",
    "\n",
    "# training labels corresponding to X\n",
    "Y = train_y\n",
    "\n",
    "# Apply gradient descent\n",
    "J, w = gradient_descent_logistic(X, Y, np.zeros((3, 1)), 1e-9, 10000)\n",
    "print(f\"The cost after training is {J:.8f}.\")\n",
    "print(f\"The resulting vector of weights is {[round(t, 8) for t in np.squeeze(w)]}\")"
   ]
  },
  {
   "cell_type": "markdown",
   "id": "a3ad34de",
   "metadata": {},
   "source": [
    "### For 6-feature model"
   ]
  },
  {
   "cell_type": "code",
   "execution_count": 61,
   "id": "7aef703a",
   "metadata": {},
   "outputs": [],
   "source": [
    "# Unscaled data\n",
    "def extract_six_features(tweet, freqs, process_tweet=process_tweet): #use for 6-feature model\n",
    "    '''\n",
    "    Input: \n",
    "        tweet: a list of words for one tweet\n",
    "        freqs: a dictionary corresponding to the frequencies of each tuple (word, label)\n",
    "    Output: \n",
    "        x: a feature vector of dimension (1,3)\n",
    "    '''\n",
    "    # process_tweet tokenizes, stems, and removes stopwords\n",
    "    word_l = process_tweet(tweet)\n",
    "    \n",
    "    \n",
    "    first_second_pronouns = {'i', 'me', 'myself', \n",
    "                            'we', 'us',  'ourself', 'ourselves',\n",
    "                            'you', 'yourself', 'yourselves'}\n",
    "    \n",
    "\n",
    "    # 7 elements in the form of a 1 x 7 vector\n",
    "    x = np.zeros((1, 7)) \n",
    "    \n",
    "    #bias term is set to 1\n",
    "    x[0,0] = 1    \n",
    "    # loop through each word in the list of words\n",
    "    for word in word_l:\n",
    "        \n",
    "        # increment the word count for the positive label 1 (feature 1)\n",
    "        if (word, 1) in freqs.keys():\n",
    "            x[0,1] += freqs[(word, 1)]\n",
    "        \n",
    "        # increment the word count for the negative label 0 (feature 2)\n",
    "        if (word, 0) in freqs.keys():\n",
    "            x[0,2] += freqs[(word, 0)]\n",
    "\n",
    "        # increment the word count for the pronouns (feature 4)\n",
    "        if word in first_second_pronouns:\n",
    "            x[0,4] += 1\n",
    "        \n",
    "    #determine the boolean value for the presence of 'no' (feature 3)\n",
    "    x[0,3] = 1 if 'no' in word_l else 0\n",
    "\n",
    "    #determine the boolean value for the presence of '!' (feature 5)\n",
    "    x[0,5] = 1 if '!' in tweet else 0\n",
    "        \n",
    "    #determine the length of the tweet (feature 6)\n",
    "    x[0,6] = np.log(len(word_l) + 1) #add 1 to avoid log(0)\n",
    "\n",
    "        \n",
    "    assert(x.shape == (1, 7))\n",
    "    return x"
   ]
  },
  {
   "cell_type": "code",
   "execution_count": 62,
   "id": "affa1efe",
   "metadata": {},
   "outputs": [],
   "source": [
    "def predict_tweet_w6ft(tweet, freqs, theta): #use for 2-feature model\n",
    "    '''\n",
    "    Input: \n",
    "        tweet: a string\n",
    "        freqs: a dictionary corresponding to the frequencies of each tuple (word, label)\n",
    "        theta: (3,1) vector of weights\n",
    "    Output: \n",
    "        y_pred: the probability of a tweet being positive or negative\n",
    "    '''\n",
    "\n",
    "    # extract the features of the tweet and store it into x\n",
    "    x = extract_six_features(tweet, freqs)\n",
    "    # make the prediction using x and theta\n",
    "    y_pred = sigmoid(np.dot(x, theta))\n",
    "    \n",
    "    return y_pred"
   ]
  },
  {
   "cell_type": "code",
   "execution_count": 63,
   "id": "d76c54d2",
   "metadata": {},
   "outputs": [
    {
     "data": {
      "image/png": "[encoded data removed]",
      "text/plain": [
       "<Figure size 500x300 with 1 Axes>"
      ]
     },
     "metadata": {},
     "output_type": "display_data"
    },
    {
     "name": "stdout",
     "output_type": "stream",
     "text": [
      "The cost after training is 0.10157920.\n",
      "The resulting vector of weights is [3e-07, 0.00127323, -0.001111, 0.0, 1e-08, 1.5e-07, 5.7e-07]\n"
     ]
    }
   ],
   "source": [
    "# collect the features 'x' and stack them into a matrix 'X'\n",
    "X = np.zeros((len(train_x), 7))\n",
    "for i in range(len(train_x)):\n",
    "    X[i, :]= extract_six_features(train_x[i], freqs)\n",
    "\n",
    "# training labels corresponding to X\n",
    "Y = train_y\n",
    "\n",
    "# Apply gradient descent\n",
    "J_six, w_six = gradient_descent_logistic(X, Y, np.zeros((7, 1)), 1e-9, 10000)\n",
    "print(f\"The cost after training is {J_six:.8f}.\")\n",
    "print(f\"The resulting vector of weights is {[round(t, 8) for t in np.squeeze(w_six)]}\")"
   ]
  },
  {
   "cell_type": "code",
   "execution_count": 64,
   "id": "c1beaae4",
   "metadata": {},
   "outputs": [
    {
     "name": "stdout",
     "output_type": "stream",
     "text": [
      "Logistic regression model's accuracy = 0.9960\n"
     ]
    }
   ],
   "source": [
    "Z = test_logistic_regression(test_x, test_y, freqs, w_six, predict_tweet=predict_tweet_w6ft)\n",
    "print(f\"Logistic regression model's accuracy = {Z:.4f}\")"
   ]
  },
  {
   "cell_type": "markdown",
   "id": "063816b7",
   "metadata": {},
   "source": [
    "### 6-feature model with scaling data"
   ]
  },
  {
   "cell_type": "code",
   "execution_count": 65,
   "id": "7ff27001",
   "metadata": {},
   "outputs": [],
   "source": [
    "from sklearn.preprocessing import StandardScaler\n",
    "scaler = StandardScaler()"
   ]
  },
  {
   "cell_type": "code",
   "execution_count": 66,
   "id": "e0588632",
   "metadata": {},
   "outputs": [
    {
     "data": {
      "image/png": "[encoded data removed]",
      "text/plain": [
       "<Figure size 500x300 with 1 Axes>"
      ]
     },
     "metadata": {},
     "output_type": "display_data"
    },
    {
     "name": "stdout",
     "output_type": "stream",
     "text": [
      "The cost after training is 0.69313375.\n",
      "The resulting vector of weights is [0.0, 7.59e-06, -8.49e-06, 0.0, 5.9e-07, 2.04e-06, 3.1e-07]\n"
     ]
    }
   ],
   "source": [
    "X = np.zeros((len(train_x), 7))\n",
    "for i in range(len(train_x)):\n",
    "    X[i, :]= extract_six_features(train_x[i], freqs)\n",
    "\n",
    "Y = scaler.fit_transform(train_y)\n",
    "\n",
    "X = scaler.fit_transform(X)\n",
    "\n",
    "J, w_scaled = gradient_descent_logistic(X, Y, np.zeros((7, 1)), 1e-9, 10000)\n",
    "print(f\"The cost after training is {J:.8f}.\")\n",
    "print(f\"The resulting vector of weights is {[round(t, 8) for t in np.squeeze(w_scaled)]}\")"
   ]
  },
  {
   "cell_type": "code",
   "execution_count": 67,
   "id": "1adcd7ff",
   "metadata": {},
   "outputs": [
    {
     "name": "stdout",
     "output_type": "stream",
     "text": [
      "Logistic regression model's accuracy = 0.9950\n"
     ]
    }
   ],
   "source": [
    "Z = test_logistic_regression(test_x, test_y, freqs, w_scaled, predict_tweet=predict_tweet_w6ft)\n",
    "print(f\"Logistic regression model's accuracy = {Z:.4f}\")"
   ]
  },
  {
   "cell_type": "markdown",
   "id": "102a1c8b",
   "metadata": {},
   "source": [
    "### Ex7: In your opinion, can we do better? I propose that your team try all ML models that you know and give us the model with the best possible precision."
   ]
  },
  {
   "cell_type": "code",
   "execution_count": 68,
   "id": "e1a3f48e",
   "metadata": {},
   "outputs": [],
   "source": [
    "import time\n",
    "from sklearn.pipeline import Pipeline\n",
    "from sklearn.preprocessing import StandardScaler\n",
    "from sklearn.model_selection import StratifiedKFold, GridSearchCV\n",
    "from sklearn.metrics import precision_score, accuracy_score, classification_report\n",
    "from sklearn.linear_model import LogisticRegression\n",
    "from sklearn.svm import LinearSVC\n",
    "from sklearn.neighbors import KNeighborsClassifier\n",
    "from sklearn.tree import DecisionTreeClassifier\n",
    "from sklearn.ensemble import RandomForestClassifier\n",
    "from sklearn.naive_bayes import GaussianNB"
   ]
  },
  {
   "cell_type": "code",
   "execution_count": 69,
   "id": "519e28e5",
   "metadata": {},
   "outputs": [],
   "source": [
    "X_test = np.zeros((len(test_x), 7))\n",
    "for i in range(len(test_x)):\n",
    "    X_test[i, :] = extract_six_features(test_x[i], freqs)[0]\n",
    "from sklearn.preprocessing import StandardScaler\n",
    "scaler = StandardScaler()\n",
    "X_scaled = scaler.fit_transform(X)\n",
    "X_test_scaled = scaler.transform(X_test)"
   ]
  },
  {
   "cell_type": "code",
   "execution_count": 70,
   "id": "0821236c",
   "metadata": {},
   "outputs": [
    {
     "data": {
      "text/html": [
       "<div>\n",
       "<style scoped>\n",
       "    .dataframe tbody tr th:only-of-type {\n",
       "        vertical-align: middle;\n",
       "    }\n",
       "\n",
       "    .dataframe tbody tr th {\n",
       "        vertical-align: top;\n",
       "    }\n",
       "\n",
       "    .dataframe thead th {\n",
       "        text-align: right;\n",
       "    }\n",
       "</style>\n",
       "<table border=\"1\" class=\"dataframe\">\n",
       "  <thead>\n",
       "    <tr style=\"text-align: right;\">\n",
       "      <th></th>\n",
       "      <th>Model</th>\n",
       "      <th>CV Precision (mean)</th>\n",
       "      <th>Test Precision</th>\n",
       "      <th>Test Accuracy</th>\n",
       "      <th>Best Params</th>\n",
       "      <th>Train Time (s)</th>\n",
       "    </tr>\n",
       "  </thead>\n",
       "  <tbody>\n",
       "    <tr>\n",
       "      <th>0</th>\n",
       "      <td>KNN</td>\n",
       "      <td>0.9928</td>\n",
       "      <td>0.9960</td>\n",
       "      <td>0.9960</td>\n",
       "      <td>{'clf__n_neighbors': 5, 'clf__weights': 'dista...</td>\n",
       "      <td>0.949</td>\n",
       "    </tr>\n",
       "    <tr>\n",
       "      <th>1</th>\n",
       "      <td>Linear SVM</td>\n",
       "      <td>0.9941</td>\n",
       "      <td>0.9955</td>\n",
       "      <td>0.9955</td>\n",
       "      <td>{'clf__C': 0.1}</td>\n",
       "      <td>0.095</td>\n",
       "    </tr>\n",
       "    <tr>\n",
       "      <th>2</th>\n",
       "      <td>Logistic Regression</td>\n",
       "      <td>0.9936</td>\n",
       "      <td>0.9940</td>\n",
       "      <td>0.9940</td>\n",
       "      <td>{'clf__C': 10, 'clf__class_weight': None}</td>\n",
       "      <td>5.387</td>\n",
       "    </tr>\n",
       "    <tr>\n",
       "      <th>3</th>\n",
       "      <td>Gaussian NB</td>\n",
       "      <td>0.9857</td>\n",
       "      <td>0.9892</td>\n",
       "      <td>0.9890</td>\n",
       "      <td>{}</td>\n",
       "      <td>0.039</td>\n",
       "    </tr>\n",
       "    <tr>\n",
       "      <th>4</th>\n",
       "      <td>Decision Tree</td>\n",
       "      <td>0.9933</td>\n",
       "      <td>0.7510</td>\n",
       "      <td>0.5040</td>\n",
       "      <td>{'clf__max_depth': None, 'clf__min_samples_lea...</td>\n",
       "      <td>0.300</td>\n",
       "    </tr>\n",
       "    <tr>\n",
       "      <th>5</th>\n",
       "      <td>Random Forest</td>\n",
       "      <td>0.9946</td>\n",
       "      <td>0.7129</td>\n",
       "      <td>0.5055</td>\n",
       "      <td>{'clf__max_depth': None, 'clf__min_samples_lea...</td>\n",
       "      <td>23.120</td>\n",
       "    </tr>\n",
       "  </tbody>\n",
       "</table>\n",
       "</div>"
      ],
      "text/plain": [
       "                 Model  CV Precision (mean)  Test Precision  Test Accuracy  \\\n",
       "0                  KNN               0.9928          0.9960         0.9960   \n",
       "1           Linear SVM               0.9941          0.9955         0.9955   \n",
       "2  Logistic Regression               0.9936          0.9940         0.9940   \n",
       "3          Gaussian NB               0.9857          0.9892         0.9890   \n",
       "4        Decision Tree               0.9933          0.7510         0.5040   \n",
       "5        Random Forest               0.9946          0.7129         0.5055   \n",
       "\n",
       "                                         Best Params  Train Time (s)  \n",
       "0  {'clf__n_neighbors': 5, 'clf__weights': 'dista...           0.949  \n",
       "1                                    {'clf__C': 0.1}           0.095  \n",
       "2          {'clf__C': 10, 'clf__class_weight': None}           5.387  \n",
       "3                                                 {}           0.039  \n",
       "4  {'clf__max_depth': None, 'clf__min_samples_lea...           0.300  \n",
       "5  {'clf__max_depth': None, 'clf__min_samples_lea...          23.120  "
      ]
     },
     "metadata": {},
     "output_type": "display_data"
    },
    {
     "name": "stdout",
     "output_type": "stream",
     "text": [
      "Mô hình tốt nhất theo Test Precision: KNN\n",
      "Best Params: {'clf__n_neighbors': 5, 'clf__weights': 'distance'}\n",
      "              precision    recall  f1-score   support\n",
      "\n",
      "         0.0     0.9990    0.9930    0.9960      1000\n",
      "         1.0     0.9930    0.9990    0.9960      1000\n",
      "\n",
      "    accuracy                         0.9960      2000\n",
      "   macro avg     0.9960    0.9960    0.9960      2000\n",
      "weighted avg     0.9960    0.9960    0.9960      2000\n",
      "\n"
     ]
    }
   ],
   "source": [
    "# CV setup\n",
    "cv = StratifiedKFold(n_splits=5, shuffle=True, random_state=42)\n",
    "\n",
    "# Pipelines (scale built-in)\n",
    "pipelines = {\n",
    "    \"Logistic Regression\": Pipeline([(\"scaler\", StandardScaler()), (\"clf\", LogisticRegression(max_iter=3000, random_state=42))]),\n",
    "    \"Linear SVM\": Pipeline([(\"scaler\", StandardScaler()), (\"clf\", LinearSVC(random_state=42))]),\n",
    "    \"KNN\": Pipeline([(\"scaler\", StandardScaler()), (\"clf\", KNeighborsClassifier())]),\n",
    "    \"Decision Tree\": Pipeline([(\"clf\", DecisionTreeClassifier(random_state=42))]),\n",
    "    \"Random Forest\": Pipeline([(\"clf\", RandomForestClassifier(random_state=42, n_jobs=-1))]),\n",
    "    \"Gaussian NB\": Pipeline([(\"clf\", GaussianNB())])\n",
    "}\n",
    "\n",
    "# Param grids (tune cho precision)\n",
    "param_grids = {\n",
    "    \"Logistic Regression\": {\"clf__C\": [0.1, 1, 10], \"clf__class_weight\": [None, \"balanced\"]},\n",
    "    \"Linear SVM\": {\"clf__C\": [0.1, 1, 10]},\n",
    "    \"KNN\": {\"clf__n_neighbors\": [3, 5, 7, 11], \"clf__weights\": [\"uniform\", \"distance\"]},\n",
    "    \"Decision Tree\": {\"clf__max_depth\": [None, 10, 20, 40], \"clf__min_samples_leaf\": [1, 3, 5]},\n",
    "    \"Random Forest\": {\"clf__n_estimators\": [200, 400], \"clf__max_depth\": [None, 20, 40], \"clf__min_samples_leaf\": [1, 3]},\n",
    "    \"Gaussian NB\": {}\n",
    "}\n",
    "\n",
    "rows, best_models = [], {}\n",
    "\n",
    "# Train trên X từ 6 features, y = train_y.ravel()\n",
    "for name, pipe in pipelines.items():\n",
    "    grid = GridSearchCV(pipe, param_grids.get(name, {}), scoring=\"precision_macro\", cv=cv, n_jobs=-1, refit=True)\n",
    "    t0 = time.perf_counter()\n",
    "    grid.fit(X, train_y.ravel())  # Không scale thủ công, pipeline làm\n",
    "    train_time = time.perf_counter() - t0\n",
    "    \n",
    "    best_models[name] = grid.best_estimator_\n",
    "    y_pred = grid.predict(X_test)\n",
    "    \n",
    "    prec = precision_score(test_y, y_pred, average='macro', zero_division=0)\n",
    "    acc = accuracy_score(test_y, y_pred)\n",
    "    \n",
    "    rows.append({\n",
    "        \"Model\": name,\n",
    "        \"CV Precision (mean)\": round(grid.best_score_, 4),\n",
    "        \"Test Precision\": round(prec, 4),\n",
    "        \"Test Accuracy\": round(acc, 4),\n",
    "        \"Best Params\": grid.best_params_,\n",
    "        \"Train Time (s)\": round(train_time, 3)\n",
    "    })\n",
    "\n",
    "df = pd.DataFrame(rows).sort_values(by=[\"Test Precision\", \"CV Precision (mean)\"], ascending=False).reset_index(drop=True)\n",
    "display(df)\n",
    "\n",
    "# Best model\n",
    "best_name = df.iloc[0][\"Model\"]\n",
    "print(f\"Mô hình tốt nhất theo Test Precision: {best_name}\")\n",
    "print(\"Best Params:\", df.iloc[0][\"Best Params\"])\n",
    "print(classification_report(test_y, best_models[best_name].predict(X_test), digits=4))"
   ]
  }
 ],
 "metadata": {
  "kernelspec": {
   "display_name": "Python 3",
   "language": "python",
   "name": "python3"
  },
  "language_info": {
   "codemirror_mode": {
    "name": "ipython",
    "version": 3
   },
   "file_extension": ".py",
   "mimetype": "text/x-python",
   "name": "python",
   "nbconvert_exporter": "python",
   "pygments_lexer": "ipython3",
   "version": "3.12.6"
  }
 },
 "nbformat": 4,
 "nbformat_minor": 5
}
