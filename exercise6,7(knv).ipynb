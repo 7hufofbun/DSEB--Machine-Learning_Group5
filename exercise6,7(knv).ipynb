{
 "cells": [
  {
   "cell_type": "code",
   "execution_count": 1,
   "id": "3a469b66",
   "metadata": {},
   "outputs": [],
   "source": [
    "import nltk #Natural Language Toolkit\n",
    "import numpy as np\n",
    "import pandas as pd\n",
    "from nltk.corpus import twitter_samples\n",
    "import matplotlib.pyplot as plt\n",
    "from mpl_toolkits.mplot3d import Axes3D"
   ]
  },
  {
   "cell_type": "code",
   "execution_count": 2,
   "id": "a3422615",
   "metadata": {},
   "outputs": [
    {
     "name": "stderr",
     "output_type": "stream",
     "text": [
      "[nltk_data] Downloading package twitter_samples to\n",
      "[nltk_data]     C:\\Users\\Admin\\AppData\\Roaming\\nltk_data...\n",
      "[nltk_data]   Package twitter_samples is already up-to-date!\n",
      "[nltk_data] Downloading package stopwords to\n",
      "[nltk_data]     C:\\Users\\Admin\\AppData\\Roaming\\nltk_data...\n",
      "[nltk_data]   Package stopwords is already up-to-date!\n"
     ]
    },
    {
     "data": {
      "text/plain": [
       "True"
      ]
     },
     "execution_count": 2,
     "metadata": {},
     "output_type": "execute_result"
    }
   ],
   "source": [
    "nltk.download('twitter_samples')\n",
    "nltk.download('stopwords')"
   ]
  },
  {
   "cell_type": "code",
   "execution_count": 3,
   "id": "8db2641b",
   "metadata": {},
   "outputs": [],
   "source": [
    "all_positive_tweets = twitter_samples.strings('positive_tweets.json')\n",
    "all_negative_tweets = twitter_samples.strings('negative_tweets.json')"
   ]
  },
  {
   "cell_type": "code",
   "execution_count": 4,
   "id": "5266977e",
   "metadata": {},
   "outputs": [],
   "source": [
    "# split data into train and test set\n",
    "test_pos = all_positive_tweets[4000:]\n",
    "train_pos = all_positive_tweets[:4000]\n",
    "test_neg = all_negative_tweets[4000:]\n",
    "train_neg = all_negative_tweets[:4000]\n",
    "\n",
    "train_x = train_pos + train_neg \n",
    "test_x = test_pos + test_neg"
   ]
  },
  {
   "cell_type": "code",
   "execution_count": 5,
   "id": "3187eeaf",
   "metadata": {},
   "outputs": [],
   "source": [
    "# Create the numpy array of positive labels and negative labels.\n",
    "train_y = np.append(np.ones((len(train_pos), 1)), np.zeros((len(train_neg), 1)), axis=0)\n",
    "test_y = np.append(np.ones((len(test_pos), 1)), np.zeros((len(test_neg), 1)), axis=0)"
   ]
  },
  {
   "cell_type": "code",
   "execution_count": 6,
   "id": "c52ef709",
   "metadata": {},
   "outputs": [
    {
     "name": "stdout",
     "output_type": "stream",
     "text": [
      "train_y.shape = (8000, 1)\n",
      "test_y.shape = (2000, 1)\n"
     ]
    }
   ],
   "source": [
    "# Print the shape train and test sets\n",
    "print(\"train_y.shape = \" + str(train_y.shape))\n",
    "print(\"test_y.shape = \" + str(test_y.shape))"
   ]
  },
  {
   "cell_type": "code",
   "execution_count": 7,
   "id": "66ce4e81",
   "metadata": {},
   "outputs": [],
   "source": [
    "from nltk.stem import PorterStemmer\n",
    "from nltk.tokenize import TweetTokenizer\n",
    "from nltk.corpus import stopwords\n",
    "import re\n",
    "import string\n",
    "\n",
    "def process_tweet(tweet):\n",
    "    \"\"\"\n",
    "    Input:\n",
    "        :tweet: a string\n",
    "    Output:\n",
    "        :tweets_clean: a list of words containing the processed tweet\n",
    "    \"\"\"\n",
    "    stemmer = PorterStemmer()\n",
    "    stopwords_english = stopwords.words('english')\n",
    "\n",
    "    # remove stock market tickers like $GE\n",
    "    tweet = re.sub(r'\\$\\w*', '', tweet)\n",
    "    # remove old style retweet text \"RT\"\n",
    "    tweet = re.sub(r'^RT[\\s]+', '', tweet)\n",
    "    # remove hyperlinks\n",
    "    tweet = re.sub(r'https?://[^\\s\\n\\r]+', '', tweet)\n",
    "    # remove hashtags\n",
    "    # only removing the hash # sign from the word\n",
    "    tweet = re.sub(r'#', '', tweet)\n",
    "\n",
    "    # tokenize tweets\n",
    "    tokenizer = TweetTokenizer(preserve_case=False, strip_handles=True, reduce_len=True) #the tokenizer will downcase everything except for emoticons\n",
    "    tweet_tokens = tokenizer.tokenize(tweet)\n",
    "\n",
    "    tweets_clean = []\n",
    "    for word in tweet_tokens:\n",
    "        if (word not in stopwords_english and   # remove stopwords\n",
    "                word not in string.punctuation): # remove punctuation\n",
    "            stem_word = stemmer.stem(word)\n",
    "            tweets_clean.append(stem_word)\n",
    "\n",
    "    return tweets_clean"
   ]
  },
  {
   "cell_type": "code",
   "execution_count": 8,
   "id": "01782667",
   "metadata": {},
   "outputs": [],
   "source": [
    "def build_freqs(tweets, ys):\n",
    "    \"\"\" Build frequencies\n",
    "    Input:\n",
    "    tweets: a list of tweets\n",
    "    ys: an mx1 array with the sentiment label of each tweet (either 0 or 1)\n",
    "    Output:\n",
    "    freqs: a dictionary mapping each (word, sentiment) pair to its frequency\n",
    "    \"\"\"\n",
    "    yslist = np.squeeze(ys).tolist()\n",
    "    # start with an empty dict and populate it by looping over all tweets\n",
    "    freqs = {}\n",
    "    for y, tweet in zip(yslist, tweets):\n",
    "        for word in process_tweet(tweet):\n",
    "            pair = (word, y)\n",
    "            if pair in freqs:\n",
    "                freqs[pair] += 1\n",
    "            else:\n",
    "                freqs[pair] = 1\n",
    "\n",
    "    return freqs"
   ]
  },
  {
   "cell_type": "code",
   "execution_count": 9,
   "id": "db0a9e81",
   "metadata": {},
   "outputs": [
    {
     "name": "stdout",
     "output_type": "stream",
     "text": [
      "type(freqs) = <class 'dict'>\n",
      "len(freqs) = 11397\n"
     ]
    }
   ],
   "source": [
    "# create frequency dictionary\n",
    "freqs = build_freqs(train_x, train_y)\n",
    "\n",
    "# check the output\n",
    "print(\"type(freqs) = \" + str(type(freqs)))\n",
    "print(\"len(freqs) = \" + str(len(freqs.keys())))"
   ]
  },
  {
   "cell_type": "code",
   "execution_count": 10,
   "id": "28c04fba",
   "metadata": {},
   "outputs": [],
   "source": [
    "def sigmoid(z): \n",
    "    '''\n",
    "    Input:\n",
    "        z: is the input (can be a scalar or an array)\n",
    "    Output:\n",
    "        h: the sigmoid of z\n",
    "    ''' \n",
    "    h = 1. / (1. + np.exp(-z))\n",
    "    return h"
   ]
  },
  {
   "cell_type": "code",
   "execution_count": 11,
   "id": "0f884cfb",
   "metadata": {},
   "outputs": [],
   "source": [
    "import matplotlib.pyplot as plt\n",
    "\n",
    "def gradient_descent_logistic(x, y, theta, alpha, num_iters):\n",
    "    '''\n",
    "    Input:\n",
    "        x: matrix of features which is (m,n+1)\n",
    "        y: corresponding labels of the input matrix x, dimensions (m,1)\n",
    "        theta: weight vector of dimension (n+1,1)\n",
    "        alpha: learning rate\n",
    "        num_iters: number of iterations you want to train your model for\n",
    "    Output:\n",
    "        J: the final cost\n",
    "        theta: your final weight vector\n",
    "    Hint: you might want to print the cost to make sure that it is going down.\n",
    "    '''\n",
    "    # get 'm', the number of rows in matrix X\n",
    "    m = len(x)\n",
    "    losses = []\n",
    "    for i in range(0, num_iters):\n",
    "        \n",
    "        # get z, the dot product of x and theta\n",
    "        z = np.dot(x, theta)\n",
    "        \n",
    "        # get the sigmoid of z\n",
    "        h = sigmoid(z)\n",
    "        \n",
    "        # calculate the cost function\n",
    "        J = - (np.dot(y.T, np.log(h)) + np.dot((1-y).T, np.log(1-h))) / float(m)\n",
    "        losses.append(float(J))\n",
    "        # update the weights theta\n",
    "        theta = theta - (alpha * np.dot(x.T, (h-y))) / float(m)\n",
    "    \n",
    "    J = float(J)\n",
    "    \n",
    "    # plot the loss function\n",
    "    iter_list = np.arange(1, num_iters + 1, 1)\n",
    "    plt.plot(iter_list, losses, color='green', label='loss')\n",
    "    plt.xlabel('number of iterations')\n",
    "    plt.ylabel('loss')\n",
    "    plt.legend()\n",
    "    plt.show()\n",
    "\n",
    "    return J, theta"
   ]
  },
  {
   "cell_type": "code",
   "execution_count": 12,
   "id": "63516eaa",
   "metadata": {},
   "outputs": [],
   "source": [
    "def test_logistic_regression(test_x, test_y, freqs, theta, predict_tweet):\n",
    "    \"\"\"\n",
    "    Input: \n",
    "        test_x: a list of tweets\n",
    "        test_y: (m, 1) vector with the corresponding labels for the list of tweets\n",
    "        freqs: a dictionary with the frequency of each pair (or tuple)\n",
    "        theta: weight vector of dimension (3, 1)\n",
    "    Output: \n",
    "        accuracy: (# of tweets classified correctly) / (total # of tweets)\n",
    "    \"\"\"   \n",
    "    # the list for storing predictions\n",
    "    y_hat = list()\n",
    "    \n",
    "    for tweet in test_x:\n",
    "        # get the label prediction for the tweet\n",
    "        y_pred = predict_tweet(tweet, freqs, theta)\n",
    "        \n",
    "        if y_pred > 0.5:\n",
    "            # append 1.0 to the list\n",
    "            y_hat.append(1.0)\n",
    "        else:\n",
    "            # append 0 to the list\n",
    "            y_hat.append(0.0)\n",
    "\n",
    "    # With the above implementation, y_hat is a list, but test_y is (m,1) array\n",
    "    # convert both to one-dimensional arrays in order to compare them using the '==' operator\n",
    "    accuracy = np.sum(y_hat == np.squeeze(test_y)) / len(test_y)    \n",
    "    return accuracy"
   ]
  },
  {
   "cell_type": "markdown",
   "id": "add8c36e",
   "metadata": {},
   "source": [
    "For 2-feature model"
   ]
  },
  {
   "cell_type": "code",
   "execution_count": 13,
   "id": "9aaf590d",
   "metadata": {},
   "outputs": [],
   "source": [
    "def extract_2_features(tweet, freqs, process_tweet=process_tweet): #use for 2-feature model\n",
    "    '''\n",
    "    Input: \n",
    "        tweet: a list of words for one tweet\n",
    "        freqs: a dictionary corresponding to the frequencies of each tuple (word, label)\n",
    "    Output: \n",
    "        x: a feature vector of dimension (1,3)\n",
    "    '''\n",
    "    # process_tweet tokenizes, stems, and removes stopwords\n",
    "    word_l = process_tweet(tweet)\n",
    "    \n",
    "    # 3 elements in the form of a 1 x 3 vector\n",
    "    x = np.zeros((1, 3)) \n",
    "    \n",
    "    #bias term is set to 1\n",
    "    x[0,0] = 1    \n",
    "    # loop through each word in the list of words\n",
    "    for word in word_l:\n",
    "        \n",
    "        # increment the word count for the positive label 1\n",
    "        if (word, 1) in freqs.keys():\n",
    "            x[0,1] += freqs[(word, 1)]\n",
    "        \n",
    "        # increment the word count for the negative label 0\n",
    "        if (word, 0) in freqs.keys():\n",
    "            x[0,2] += freqs[(word, 0)]\n",
    "        \n",
    "    assert(x.shape == (1, 3))\n",
    "    return x"
   ]
  },
  {
   "cell_type": "code",
   "execution_count": 14,
   "id": "1686c3f5",
   "metadata": {},
   "outputs": [],
   "source": [
    "def predict_tweet_w2ft(tweet, freqs, theta): #use for 2-feature model\n",
    "    '''\n",
    "    Input: \n",
    "        tweet: a string\n",
    "        freqs: a dictionary corresponding to the frequencies of each tuple (word, label)\n",
    "        theta: (3,1) vector of weights\n",
    "    Output: \n",
    "        y_pred: the probability of a tweet being positive or negative\n",
    "    '''\n",
    "\n",
    "    # extract the features of the tweet and store it into x\n",
    "    x = extract_2_features(tweet, freqs)\n",
    "    # make the prediction using x and theta\n",
    "    y_pred = sigmoid(np.dot(x, theta))\n",
    "    \n",
    "    return y_pred"
   ]
  },
  {
   "cell_type": "code",
   "execution_count": 15,
   "id": "c789f641",
   "metadata": {},
   "outputs": [
    {
     "name": "stderr",
     "output_type": "stream",
     "text": [
      "C:\\Users\\Admin\\AppData\\Local\\Temp\\ipykernel_2212\\3353328855.py:29: DeprecationWarning: Conversion of an array with ndim > 0 to a scalar is deprecated, and will error in future. Ensure you extract a single element from your array before performing this operation. (Deprecated NumPy 1.25.)\n",
      "  losses.append(float(J))\n",
      "C:\\Users\\Admin\\AppData\\Local\\Temp\\ipykernel_2212\\3353328855.py:33: DeprecationWarning: Conversion of an array with ndim > 0 to a scalar is deprecated, and will error in future. Ensure you extract a single element from your array before performing this operation. (Deprecated NumPy 1.25.)\n",
      "  J = float(J)\n"
     ]
    },
    {
     "data": {
      "image/png": "[encoded data removed]",
      "text/plain": [
       "<Figure size 640x480 with 1 Axes>"
      ]
     },
     "metadata": {},
     "output_type": "display_data"
    },
    {
     "name": "stdout",
     "output_type": "stream",
     "text": [
      "The cost after training is 0.10157921.\n",
      "The resulting vector of weights is [np.float64(3e-07), np.float64(0.00127323), np.float64(-0.001111)]\n"
     ]
    }
   ],
   "source": [
    "# collect the features 'x' and stack them into a matrix 'X'\n",
    "X = np.zeros((len(train_x), 3))\n",
    "for i in range(len(train_x)):\n",
    "    X[i, :]= extract_2_features(train_x[i], freqs)\n",
    "\n",
    "# training labels corresponding to X\n",
    "Y = train_y\n",
    "\n",
    "# Apply gradient descent\n",
    "J, w = gradient_descent_logistic(X, Y, np.zeros((3, 1)), 1e-9, 10000)\n",
    "print(f\"The cost after training is {J:.8f}.\")\n",
    "print(f\"The resulting vector of weights is {[round(t, 8) for t in np.squeeze(w)]}\")"
   ]
  },
  {
   "cell_type": "code",
   "execution_count": 16,
   "id": "01e0e405",
   "metadata": {},
   "outputs": [
    {
     "name": "stdout",
     "output_type": "stream",
     "text": [
      "Logistic regression model's accuracy = 0.9960\n"
     ]
    }
   ],
   "source": [
    "Z = test_logistic_regression(test_x, test_y, freqs, w, predict_tweet=predict_tweet_w2ft)\n",
    "print(f\"Logistic regression model's accuracy = {Z:.4f}\")"
   ]
  },
  {
   "cell_type": "markdown",
   "id": "12a959b6",
   "metadata": {},
   "source": [
    "For 6-feature model (unscaled)\n"
   ]
  },
  {
   "cell_type": "code",
   "execution_count": 17,
   "id": "307802d3",
   "metadata": {},
   "outputs": [],
   "source": [
    "def extract_six_features(tweet, freqs, process_tweet=process_tweet): #use for 6-feature model\n",
    "    '''\n",
    "    Input: \n",
    "        tweet: a list of words for one tweet\n",
    "        freqs: a dictionary corresponding to the frequencies of each tuple (word, label)\n",
    "    Output: \n",
    "        x: a feature vector of dimension (1,3)\n",
    "    '''\n",
    "    # process_tweet tokenizes, stems, and removes stopwords\n",
    "    word_l = process_tweet(tweet)\n",
    "    \n",
    "    \n",
    "    first_second_pronouns = {'i', 'me', 'myself', \n",
    "                             'we', 'us',  'ourself', 'ourselves',\n",
    "                             'you', 'yourself', 'yourselves'}\n",
    "    \n",
    "\n",
    "    # 7 elements in the form of a 1 x 7 vector\n",
    "    x = np.zeros((1, 7)) \n",
    "    \n",
    "    #bias term is set to 1\n",
    "    x[0,0] = 1    \n",
    "    # loop through each word in the list of words\n",
    "    for word in word_l:\n",
    "        \n",
    "        # increment the word count for the positive label 1 (feature 1)\n",
    "        if (word, 1) in freqs.keys():\n",
    "            x[0,1] += freqs[(word, 1)]\n",
    "        \n",
    "        # increment the word count for the negative label 0 (feature 2)\n",
    "        if (word, 0) in freqs.keys():\n",
    "            x[0,2] += freqs[(word, 0)]\n",
    "\n",
    "        # increment the word count for the pronouns (feature 4)\n",
    "        if word in first_second_pronouns:\n",
    "            x[0,4] += 1\n",
    "        \n",
    "    #determine the boolean value for the presence of 'no' (feature 3)\n",
    "    x[0,3] = 1 if 'no' in word_l else 0\n",
    "\n",
    "    #determine the boolean value for the presence of '!' (feature 5)\n",
    "    x[0,5] = 1 if '!' in tweet else 0\n",
    "        \n",
    "    #determine the length of the tweet (feature 6)\n",
    "    x[0,6] = np.log(len(word_l) + 1) #add 1 to avoid log(0)\n",
    "\n",
    "        \n",
    "    assert(x.shape == (1, 7))\n",
    "    return x"
   ]
  },
  {
   "cell_type": "code",
   "execution_count": 18,
   "id": "b6907ba1",
   "metadata": {},
   "outputs": [],
   "source": [
    "def predict_tweet_w6ft(tweet, freqs, theta): #use for 2-feature model\n",
    "    '''\n",
    "    Input: \n",
    "        tweet: a string\n",
    "        freqs: a dictionary corresponding to the frequencies of each tuple (word, label)\n",
    "        theta: (3,1) vector of weights\n",
    "    Output: \n",
    "        y_pred: the probability of a tweet being positive or negative\n",
    "    '''\n",
    "\n",
    "    # extract the features of the tweet and store it into x\n",
    "    x = extract_six_features(tweet, freqs)\n",
    "    # make the prediction using x and theta\n",
    "    y_pred = sigmoid(np.dot(x, theta))\n",
    "    \n",
    "    return y_pred"
   ]
  },
  {
   "cell_type": "code",
   "execution_count": 19,
   "id": "39721cbc",
   "metadata": {},
   "outputs": [
    {
     "name": "stderr",
     "output_type": "stream",
     "text": [
      "C:\\Users\\Admin\\AppData\\Local\\Temp\\ipykernel_2212\\3353328855.py:29: DeprecationWarning: Conversion of an array with ndim > 0 to a scalar is deprecated, and will error in future. Ensure you extract a single element from your array before performing this operation. (Deprecated NumPy 1.25.)\n",
      "  losses.append(float(J))\n",
      "C:\\Users\\Admin\\AppData\\Local\\Temp\\ipykernel_2212\\3353328855.py:33: DeprecationWarning: Conversion of an array with ndim > 0 to a scalar is deprecated, and will error in future. Ensure you extract a single element from your array before performing this operation. (Deprecated NumPy 1.25.)\n",
      "  J = float(J)\n"
     ]
    },
    {
     "data": {
      "image/png": "[encoded data removed]",
      "text/plain": [
       "<Figure size 640x480 with 1 Axes>"
      ]
     },
     "metadata": {},
     "output_type": "display_data"
    },
    {
     "name": "stdout",
     "output_type": "stream",
     "text": [
      "The cost after training is 0.10157920.\n",
      "The resulting vector of weights is [np.float64(3e-07), np.float64(0.00127323), np.float64(-0.001111), np.float64(0.0), np.float64(1e-08), np.float64(1.5e-07), np.float64(5.7e-07)]\n"
     ]
    }
   ],
   "source": [
    "# collect the features 'x' and stack them into a matrix 'X'\n",
    "X = np.zeros((len(train_x), 7))\n",
    "for i in range(len(train_x)):\n",
    "    X[i, :]= extract_six_features(train_x[i], freqs)\n",
    "\n",
    "# training labels corresponding to X\n",
    "Y = train_y\n",
    "\n",
    "# Apply gradient descent\n",
    "J_six, w_six = gradient_descent_logistic(X, Y, np.zeros((7, 1)), 1e-9, 10000)\n",
    "print(f\"The cost after training is {J_six:.8f}.\")\n",
    "print(f\"The resulting vector of weights is {[round(t, 8) for t in np.squeeze(w_six)]}\")"
   ]
  },
  {
   "cell_type": "code",
   "execution_count": 20,
   "id": "952a4e12",
   "metadata": {},
   "outputs": [
    {
     "name": "stdout",
     "output_type": "stream",
     "text": [
      "Logistic regression model's accuracy = 0.9960\n"
     ]
    }
   ],
   "source": [
    "Z = test_logistic_regression(test_x, test_y, freqs, w_six, predict_tweet=predict_tweet_w6ft)\n",
    "print(f\"Logistic regression model's accuracy = {Z:.4f}\")"
   ]
  },
  {
   "cell_type": "code",
   "execution_count": 21,
   "id": "20e1aa63",
   "metadata": {},
   "outputs": [],
   "source": [
    "from sklearn.preprocessing import StandardScaler\n",
    "scaler = StandardScaler()"
   ]
  },
  {
   "cell_type": "code",
   "execution_count": null,
   "id": "0eab7b98",
   "metadata": {},
   "outputs": [
    {
     "name": "stderr",
     "output_type": "stream",
     "text": [
      "C:\\Users\\Admin\\AppData\\Local\\Temp\\ipykernel_2212\\3353328855.py:29: DeprecationWarning: Conversion of an array with ndim > 0 to a scalar is deprecated, and will error in future. Ensure you extract a single element from your array before performing this operation. (Deprecated NumPy 1.25.)\n",
      "  losses.append(float(J))\n",
      "C:\\Users\\Admin\\AppData\\Local\\Temp\\ipykernel_2212\\3353328855.py:33: DeprecationWarning: Conversion of an array with ndim > 0 to a scalar is deprecated, and will error in future. Ensure you extract a single element from your array before performing this operation. (Deprecated NumPy 1.25.)\n",
      "  J = float(J)\n"
     ]
    },
    {
     "data": {
      "image/png": "[encoded data removed]",
      "text/plain": [
       "<Figure size 640x480 with 1 Axes>"
      ]
     },
     "metadata": {},
     "output_type": "display_data"
    },
    {
     "name": "stdout",
     "output_type": "stream",
     "text": [
      "The cost after training is 0.69313375.\n",
      "The resulting vector of weights is [np.float64(0.0), np.float64(7.59e-06), np.float64(-8.49e-06), np.float64(0.0), np.float64(5.9e-07), np.float64(2.04e-06), np.float64(3.1e-07)]\n"
     ]
    }
   ],
   "source": [
    "X = np.zeros((len(train_x), 7))\n",
    "for i in range(len(train_x)):\n",
    "    X[i, :]= extract_six_features(train_x[i], freqs)\n",
    "\n",
    "Y = scaler.fit_transform(train_y)\n",
    "\n",
    "X = scaler.fit_transform(X)\n",
    "\n",
    "J, w_scaled = gradient_descent_logistic(X, Y, np.zeros((7, 1)), 1e-9, 10000)\n",
    "print(f\"The cost after training is {J:.8f}.\")\n",
    "print(f\"The resulting vector of weights is {[round(t, 8) for t in np.squeeze(w_scaled)]}\")"
   ]
  },
  {
   "cell_type": "code",
   "execution_count": 23,
   "id": "a3678361",
   "metadata": {},
   "outputs": [
    {
     "name": "stdout",
     "output_type": "stream",
     "text": [
      "Logistic regression model's accuracy = 0.9950\n"
     ]
    }
   ],
   "source": [
    "Z = test_logistic_regression(test_x, test_y, freqs, w_scaled, predict_tweet=predict_tweet_w6ft)\n",
    "print(f\"Logistic regression model's accuracy = {Z:.4f}\")"
   ]
  },
  {
   "cell_type": "code",
   "execution_count": 28,
   "id": "d6c1c717",
   "metadata": {},
   "outputs": [],
   "source": [
    "import time\n",
    "from sklearn.pipeline import Pipeline\n",
    "from sklearn.preprocessing import StandardScaler\n",
    "from sklearn.model_selection import StratifiedKFold, GridSearchCV\n",
    "from sklearn.metrics import precision_score, accuracy_score, classification_report\n",
    "from sklearn.linear_model import LogisticRegression\n",
    "from sklearn.svm import LinearSVC\n",
    "from sklearn.neighbors import KNeighborsClassifier\n",
    "from sklearn.tree import DecisionTreeClassifier\n",
    "from sklearn.ensemble import RandomForestClassifier\n",
    "from sklearn.naive_bayes import GaussianNB"
   ]
  },
  {
   "cell_type": "code",
   "execution_count": 31,
   "id": "149dbc1b",
   "metadata": {},
   "outputs": [],
   "source": [
    "X_test = np.zeros((len(test_x), 7))\n",
    "for i in range(len(test_x)):\n",
    "    X_test[i, :] = extract_six_features(test_x[i], freqs)[0]\n",
    "from sklearn.preprocessing import StandardScaler\n",
    "scaler = StandardScaler()\n",
    "X_scaled = scaler.fit_transform(X)\n",
    "X_test_scaled = scaler.transform(X_test)"
   ]
  },
  {
   "cell_type": "code",
   "execution_count": 32,
   "id": "5be5bdc4",
   "metadata": {},
   "outputs": [
    {
     "data": {
      "text/html": [
       "<div>\n",
       "<style scoped>\n",
       "    .dataframe tbody tr th:only-of-type {\n",
       "        vertical-align: middle;\n",
       "    }\n",
       "\n",
       "    .dataframe tbody tr th {\n",
       "        vertical-align: top;\n",
       "    }\n",
       "\n",
       "    .dataframe thead th {\n",
       "        text-align: right;\n",
       "    }\n",
       "</style>\n",
       "<table border=\"1\" class=\"dataframe\">\n",
       "  <thead>\n",
       "    <tr style=\"text-align: right;\">\n",
       "      <th></th>\n",
       "      <th>Model</th>\n",
       "      <th>CV Precision (mean)</th>\n",
       "      <th>Test Precision</th>\n",
       "      <th>Test Accuracy</th>\n",
       "      <th>Best Params</th>\n",
       "      <th>Train Time (s)</th>\n",
       "    </tr>\n",
       "  </thead>\n",
       "  <tbody>\n",
       "    <tr>\n",
       "      <th>0</th>\n",
       "      <td>KNN</td>\n",
       "      <td>0.9928</td>\n",
       "      <td>0.9960</td>\n",
       "      <td>0.9960</td>\n",
       "      <td>{'clf__n_neighbors': 5, 'clf__weights': 'dista...</td>\n",
       "      <td>1.159</td>\n",
       "    </tr>\n",
       "    <tr>\n",
       "      <th>1</th>\n",
       "      <td>Linear SVM</td>\n",
       "      <td>0.9941</td>\n",
       "      <td>0.9955</td>\n",
       "      <td>0.9955</td>\n",
       "      <td>{'clf__C': 0.1}</td>\n",
       "      <td>0.099</td>\n",
       "    </tr>\n",
       "    <tr>\n",
       "      <th>2</th>\n",
       "      <td>Logistic Regression</td>\n",
       "      <td>0.9936</td>\n",
       "      <td>0.9940</td>\n",
       "      <td>0.9940</td>\n",
       "      <td>{'clf__C': 10, 'clf__class_weight': None}</td>\n",
       "      <td>0.699</td>\n",
       "    </tr>\n",
       "    <tr>\n",
       "      <th>3</th>\n",
       "      <td>Gaussian NB</td>\n",
       "      <td>0.9857</td>\n",
       "      <td>0.9892</td>\n",
       "      <td>0.9890</td>\n",
       "      <td>{}</td>\n",
       "      <td>0.042</td>\n",
       "    </tr>\n",
       "    <tr>\n",
       "      <th>4</th>\n",
       "      <td>Decision Tree</td>\n",
       "      <td>0.9933</td>\n",
       "      <td>0.7510</td>\n",
       "      <td>0.5040</td>\n",
       "      <td>{'clf__max_depth': None, 'clf__min_samples_lea...</td>\n",
       "      <td>0.277</td>\n",
       "    </tr>\n",
       "    <tr>\n",
       "      <th>5</th>\n",
       "      <td>Random Forest</td>\n",
       "      <td>0.9946</td>\n",
       "      <td>0.7129</td>\n",
       "      <td>0.5055</td>\n",
       "      <td>{'clf__max_depth': None, 'clf__min_samples_lea...</td>\n",
       "      <td>13.848</td>\n",
       "    </tr>\n",
       "  </tbody>\n",
       "</table>\n",
       "</div>"
      ],
      "text/plain": [
       "                 Model  CV Precision (mean)  Test Precision  Test Accuracy  \\\n",
       "0                  KNN               0.9928          0.9960         0.9960   \n",
       "1           Linear SVM               0.9941          0.9955         0.9955   \n",
       "2  Logistic Regression               0.9936          0.9940         0.9940   \n",
       "3          Gaussian NB               0.9857          0.9892         0.9890   \n",
       "4        Decision Tree               0.9933          0.7510         0.5040   \n",
       "5        Random Forest               0.9946          0.7129         0.5055   \n",
       "\n",
       "                                         Best Params  Train Time (s)  \n",
       "0  {'clf__n_neighbors': 5, 'clf__weights': 'dista...           1.159  \n",
       "1                                    {'clf__C': 0.1}           0.099  \n",
       "2          {'clf__C': 10, 'clf__class_weight': None}           0.699  \n",
       "3                                                 {}           0.042  \n",
       "4  {'clf__max_depth': None, 'clf__min_samples_lea...           0.277  \n",
       "5  {'clf__max_depth': None, 'clf__min_samples_lea...          13.848  "
      ]
     },
     "metadata": {},
     "output_type": "display_data"
    },
    {
     "name": "stdout",
     "output_type": "stream",
     "text": [
      "Mô hình tốt nhất theo Test Precision: KNN\n",
      "Best Params: {'clf__n_neighbors': 5, 'clf__weights': 'distance'}\n",
      "              precision    recall  f1-score   support\n",
      "\n",
      "         0.0     0.9990    0.9930    0.9960      1000\n",
      "         1.0     0.9930    0.9990    0.9960      1000\n",
      "\n",
      "    accuracy                         0.9960      2000\n",
      "   macro avg     0.9960    0.9960    0.9960      2000\n",
      "weighted avg     0.9960    0.9960    0.9960      2000\n",
      "\n"
     ]
    }
   ],
   "source": [
    "# CV setup\n",
    "cv = StratifiedKFold(n_splits=5, shuffle=True, random_state=42)\n",
    "\n",
    "# Pipelines (scale built-in)\n",
    "pipelines = {\n",
    "    \"Logistic Regression\": Pipeline([(\"scaler\", StandardScaler()), (\"clf\", LogisticRegression(max_iter=3000, random_state=42))]),\n",
    "    \"Linear SVM\": Pipeline([(\"scaler\", StandardScaler()), (\"clf\", LinearSVC(random_state=42))]),\n",
    "    \"KNN\": Pipeline([(\"scaler\", StandardScaler()), (\"clf\", KNeighborsClassifier())]),\n",
    "    \"Decision Tree\": Pipeline([(\"clf\", DecisionTreeClassifier(random_state=42))]),\n",
    "    \"Random Forest\": Pipeline([(\"clf\", RandomForestClassifier(random_state=42, n_jobs=-1))]),\n",
    "    \"Gaussian NB\": Pipeline([(\"clf\", GaussianNB())])\n",
    "}\n",
    "\n",
    "# Param grids (tune cho precision)\n",
    "param_grids = {\n",
    "    \"Logistic Regression\": {\"clf__C\": [0.1, 1, 10], \"clf__class_weight\": [None, \"balanced\"]},\n",
    "    \"Linear SVM\": {\"clf__C\": [0.1, 1, 10]},\n",
    "    \"KNN\": {\"clf__n_neighbors\": [3, 5, 7, 11], \"clf__weights\": [\"uniform\", \"distance\"]},\n",
    "    \"Decision Tree\": {\"clf__max_depth\": [None, 10, 20, 40], \"clf__min_samples_leaf\": [1, 3, 5]},\n",
    "    \"Random Forest\": {\"clf__n_estimators\": [200, 400], \"clf__max_depth\": [None, 20, 40], \"clf__min_samples_leaf\": [1, 3]},\n",
    "    \"Gaussian NB\": {}\n",
    "}\n",
    "\n",
    "rows, best_models = [], {}\n",
    "\n",
    "# Train trên X từ 6 features, y = train_y.ravel()\n",
    "for name, pipe in pipelines.items():\n",
    "    grid = GridSearchCV(pipe, param_grids.get(name, {}), scoring=\"precision_macro\", cv=cv, n_jobs=-1, refit=True)\n",
    "    t0 = time.perf_counter()\n",
    "    grid.fit(X, train_y.ravel())  # Không scale thủ công, pipeline làm\n",
    "    train_time = time.perf_counter() - t0\n",
    "    \n",
    "    best_models[name] = grid.best_estimator_\n",
    "    y_pred = grid.predict(X_test)\n",
    "    \n",
    "    prec = precision_score(test_y, y_pred, average='macro', zero_division=0)\n",
    "    acc = accuracy_score(test_y, y_pred)\n",
    "    \n",
    "    rows.append({\n",
    "        \"Model\": name,\n",
    "        \"CV Precision (mean)\": round(grid.best_score_, 4),\n",
    "        \"Test Precision\": round(prec, 4),\n",
    "        \"Test Accuracy\": round(acc, 4),\n",
    "        \"Best Params\": grid.best_params_,\n",
    "        \"Train Time (s)\": round(train_time, 3)\n",
    "    })\n",
    "\n",
    "df = pd.DataFrame(rows).sort_values(by=[\"Test Precision\", \"CV Precision (mean)\"], ascending=False).reset_index(drop=True)\n",
    "display(df)\n",
    "\n",
    "# Best model\n",
    "best_name = df.iloc[0][\"Model\"]\n",
    "print(f\"Mô hình tốt nhất theo Test Precision: {best_name}\")\n",
    "print(\"Best Params:\", df.iloc[0][\"Best Params\"])\n",
    "print(classification_report(test_y, best_models[best_name].predict(X_test), digits=4))"
   ]
  }
 ],
 "metadata": {
  "kernelspec": {
   "display_name": "Python 3",
   "language": "python",
   "name": "python3"
  },
  "language_info": {
   "codemirror_mode": {
    "name": "ipython",
    "version": 3
   },
   "file_extension": ".py",
   "mimetype": "text/x-python",
   "name": "python",
   "nbconvert_exporter": "python",
   "pygments_lexer": "ipython3",
   "version": "3.13.0"
  }
 },
 "nbformat": 4,
 "nbformat_minor": 5
}
